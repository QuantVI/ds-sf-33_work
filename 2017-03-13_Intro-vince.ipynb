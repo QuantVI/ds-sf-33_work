{
 "cells": [
  {
   "cell_type": "markdown",
   "metadata": {
    "deletable": true,
    "editable": true
   },
   "source": [
    "# Question 1\n",
    "Determine the version of python that's currently powering your notebook."
   ]
  },
  {
   "cell_type": "code",
   "execution_count": 3,
   "metadata": {
    "collapsed": false,
    "deletable": true,
    "editable": true
   },
   "outputs": [
    {
     "data": {
      "text/plain": [
       "'3.6.0 |Anaconda 4.3.1 (x86_64)| (default, Dec 23 2016, 13:19:00) \\n[GCC 4.2.1 Compatible Apple LLVM 6.0 (clang-600.0.57)]'"
      ]
     },
     "execution_count": 3,
     "metadata": {},
     "output_type": "execute_result"
    }
   ],
   "source": [
    "import sys\n",
    "# type sys.<tab> to find all the attributes; choose the one to suit your needs!\n",
    "sys.version"
   ]
  },
  {
   "cell_type": "markdown",
   "metadata": {
    "deletable": true,
    "editable": true
   },
   "source": [
    "# Question 2\n",
    "Define a function max_of_three() that takes three numbers as arguments and returns the largest of them.\n",
    "> `max_of_three(55, -22, pow(2,100))`"
   ]
  },
  {
   "cell_type": "code",
   "execution_count": 15,
   "metadata": {
    "collapsed": false,
    "deletable": true,
    "editable": true
   },
   "outputs": [
    {
     "name": "stdout",
     "output_type": "stream",
     "text": [
      "3\n"
     ]
    }
   ],
   "source": [
    "def max_of_three(a,b,c):\n",
    "    return max(a,b,c)\n",
    "\n",
    "print (max_of_three(1,2,3))"
   ]
  },
  {
   "cell_type": "markdown",
   "metadata": {
    "deletable": true,
    "editable": true
   },
   "source": [
    "# Question 3\n",
    "Write a function is_vowel() that takes a character (i.e. a string of length 1) and returns True if it is a vowel, False otherwise."
   ]
  },
  {
   "cell_type": "code",
   "execution_count": 19,
   "metadata": {
    "collapsed": false,
    "deletable": true,
    "editable": true
   },
   "outputs": [
    {
     "name": "stdout",
     "output_type": "stream",
     "text": [
      "True False\n"
     ]
    }
   ],
   "source": [
    "def is_vowel(x):\n",
    "    return bool(x.lower() in 'aeiou')\n",
    "\n",
    "print (is_vowel('a'), is_vowel('z'))"
   ]
  },
  {
   "cell_type": "markdown",
   "metadata": {
    "deletable": true,
    "editable": true
   },
   "source": [
    "# Question 4\n",
    "Define a function reverse() that computes the reversal of a string. For example, reverse(\"I am testing\") should return the string \"gnitset ma I\"."
   ]
  },
  {
   "cell_type": "code",
   "execution_count": 20,
   "metadata": {
    "collapsed": false,
    "deletable": true,
    "editable": true
   },
   "outputs": [
    {
     "name": "stdout",
     "output_type": "stream",
     "text": [
      "gnitset ma I\n"
     ]
    }
   ],
   "source": [
    "def reservse(x):\n",
    "    return x[::-1]\n",
    "\n",
    "print (reservse(\"I am testing\"))"
   ]
  },
  {
   "cell_type": "markdown",
   "metadata": {
    "deletable": true,
    "editable": true
   },
   "source": [
    "# Question 5\n",
    "Define a function is_palindrome() that recognizes palindromes (i.e. words that look the same written backwards). For example, is_palindrome(\"radar\") should return True."
   ]
  },
  {
   "cell_type": "code",
   "execution_count": 47,
   "metadata": {
    "collapsed": false,
    "deletable": true,
    "editable": true
   },
   "outputs": [
    {
     "name": "stdout",
     "output_type": "stream",
     "text": [
      "True False True True True \n",
      "True True False False True "
     ]
    }
   ],
   "source": [
    "def is_palindrome(word):\n",
    "    el = len(word)\n",
    "    if el % 2 == 0:\n",
    "        em = int(el/2)\n",
    "        #print(word[:em] ,word[:em-1:-1])\n",
    "        return (word[:em] == word[:em-1:-1])\n",
    "    else:\n",
    "        # print(word[:el//2] ,word[:el//2:-1])\n",
    "        return word[:el//2] == word[:el//2:-1]\n",
    "\n",
    "a = ['radar','sonar','sudodus','z','ada']\n",
    "b = ['abba','runnur','midmid','cd','ww']\n",
    "\n",
    "for x in a:\n",
    "    print (is_palindrome(x),end=' ')\n",
    "print ()\n",
    "for y in b:\n",
    "    print (is_palindrome(y),end=' ')\n"
   ]
  },
  {
   "cell_type": "markdown",
   "metadata": {
    "deletable": true,
    "editable": true
   },
   "source": [
    "# Question 6\n",
    "99 Bottles of Beer\" is a traditional song in the United States and Canada. It is popular to sing on long trips, as it has a very repetitive format which is easy to memorize, and can take a long time to sing. The song's simple lyrics are as follows:\n",
    "\n",
    "    99 bottles of beer on the wall, 99 bottles of beer.\n",
    "    Take one down, pass it around, 98 bottles of beer on the wall.\n",
    "\n",
    "The same verse is repeated, each time with one fewer bottle. The song is completed when the singer or singers reach zero.\n",
    "\n",
    "Your task here is write a Python program capable of generating all the verses of the song."
   ]
  },
  {
   "cell_type": "code",
   "execution_count": 88,
   "metadata": {
    "collapsed": false
   },
   "outputs": [
    {
     "name": "stdout",
     "output_type": "stream",
     "text": [
      "99 bottles of beer on the wall, 99 bottles of beer.\n",
      "    Take one down, pass it around, 98 bottles of beer on the wall.\n",
      "    \n",
      "98 bottles of beer on the wall, 98 bottles of beer.\n",
      "    Take one down, pass it around, 97 bottles of beer on the wall.\n",
      "    \n",
      "97 bottles of beer on the wall, 97 bottles of beer.\n",
      "    Take one down, pass it around, 96 bottles of beer on the wall.\n",
      "    \n",
      "96 bottles of beer on the wall, 96 bottles of beer.\n",
      "    Take one down, pass it around, 95 bottles of beer on the wall.\n",
      "    \n",
      "95 bottles of beer on the wall, 95 bottles of beer.\n",
      "    Take one down, pass it around, 94 bottles of beer on the wall.\n",
      "    \n",
      "94 bottles of beer on the wall, 94 bottles of beer.\n",
      "    Take one down, pass it around, 93 bottles of beer on the wall.\n",
      "    \n",
      "93 bottles of beer on the wall, 93 bottles of beer.\n",
      "    Take one down, pass it around, 92 bottles of beer on the wall.\n",
      "    \n",
      "92 bottles of beer on the wall, 92 bottles of beer.\n",
      "    Take one down, pass it around, 91 bottles of beer on the wall.\n",
      "    \n",
      "91 bottles of beer on the wall, 91 bottles of beer.\n",
      "    Take one down, pass it around, 90 bottles of beer on the wall.\n",
      "    \n",
      "90 bottles of beer on the wall, 90 bottles of beer.\n",
      "    Take one down, pass it around, 89 bottles of beer on the wall.\n",
      "    \n",
      "89 bottles of beer on the wall, 89 bottles of beer.\n",
      "    Take one down, pass it around, 88 bottles of beer on the wall.\n",
      "    \n",
      "88 bottles of beer on the wall, 88 bottles of beer.\n",
      "    Take one down, pass it around, 87 bottles of beer on the wall.\n",
      "    \n",
      "87 bottles of beer on the wall, 87 bottles of beer.\n",
      "    Take one down, pass it around, 86 bottles of beer on the wall.\n",
      "    \n",
      "86 bottles of beer on the wall, 86 bottles of beer.\n",
      "    Take one down, pass it around, 85 bottles of beer on the wall.\n",
      "    \n",
      "85 bottles of beer on the wall, 85 bottles of beer.\n",
      "    Take one down, pass it around, 84 bottles of beer on the wall.\n",
      "    \n",
      "84 bottles of beer on the wall, 84 bottles of beer.\n",
      "    Take one down, pass it around, 83 bottles of beer on the wall.\n",
      "    \n",
      "83 bottles of beer on the wall, 83 bottles of beer.\n",
      "    Take one down, pass it around, 82 bottles of beer on the wall.\n",
      "    \n",
      "82 bottles of beer on the wall, 82 bottles of beer.\n",
      "    Take one down, pass it around, 81 bottles of beer on the wall.\n",
      "    \n",
      "81 bottles of beer on the wall, 81 bottles of beer.\n",
      "    Take one down, pass it around, 80 bottles of beer on the wall.\n",
      "    \n",
      "80 bottles of beer on the wall, 80 bottles of beer.\n",
      "    Take one down, pass it around, 79 bottles of beer on the wall.\n",
      "    \n",
      "79 bottles of beer on the wall, 79 bottles of beer.\n",
      "    Take one down, pass it around, 78 bottles of beer on the wall.\n",
      "    \n",
      "78 bottles of beer on the wall, 78 bottles of beer.\n",
      "    Take one down, pass it around, 77 bottles of beer on the wall.\n",
      "    \n",
      "77 bottles of beer on the wall, 77 bottles of beer.\n",
      "    Take one down, pass it around, 76 bottles of beer on the wall.\n",
      "    \n",
      "76 bottles of beer on the wall, 76 bottles of beer.\n",
      "    Take one down, pass it around, 75 bottles of beer on the wall.\n",
      "    \n",
      "75 bottles of beer on the wall, 75 bottles of beer.\n",
      "    Take one down, pass it around, 74 bottles of beer on the wall.\n",
      "    \n",
      "74 bottles of beer on the wall, 74 bottles of beer.\n",
      "    Take one down, pass it around, 73 bottles of beer on the wall.\n",
      "    \n",
      "73 bottles of beer on the wall, 73 bottles of beer.\n",
      "    Take one down, pass it around, 72 bottles of beer on the wall.\n",
      "    \n",
      "72 bottles of beer on the wall, 72 bottles of beer.\n",
      "    Take one down, pass it around, 71 bottles of beer on the wall.\n",
      "    \n",
      "71 bottles of beer on the wall, 71 bottles of beer.\n",
      "    Take one down, pass it around, 70 bottles of beer on the wall.\n",
      "    \n",
      "70 bottles of beer on the wall, 70 bottles of beer.\n",
      "    Take one down, pass it around, 69 bottles of beer on the wall.\n",
      "    \n",
      "69 bottles of beer on the wall, 69 bottles of beer.\n",
      "    Take one down, pass it around, 68 bottles of beer on the wall.\n",
      "    \n",
      "68 bottles of beer on the wall, 68 bottles of beer.\n",
      "    Take one down, pass it around, 67 bottles of beer on the wall.\n",
      "    \n",
      "67 bottles of beer on the wall, 67 bottles of beer.\n",
      "    Take one down, pass it around, 66 bottles of beer on the wall.\n",
      "    \n",
      "66 bottles of beer on the wall, 66 bottles of beer.\n",
      "    Take one down, pass it around, 65 bottles of beer on the wall.\n",
      "    \n",
      "65 bottles of beer on the wall, 65 bottles of beer.\n",
      "    Take one down, pass it around, 64 bottles of beer on the wall.\n",
      "    \n",
      "64 bottles of beer on the wall, 64 bottles of beer.\n",
      "    Take one down, pass it around, 63 bottles of beer on the wall.\n",
      "    \n",
      "63 bottles of beer on the wall, 63 bottles of beer.\n",
      "    Take one down, pass it around, 62 bottles of beer on the wall.\n",
      "    \n",
      "62 bottles of beer on the wall, 62 bottles of beer.\n",
      "    Take one down, pass it around, 61 bottles of beer on the wall.\n",
      "    \n",
      "61 bottles of beer on the wall, 61 bottles of beer.\n",
      "    Take one down, pass it around, 60 bottles of beer on the wall.\n",
      "    \n",
      "60 bottles of beer on the wall, 60 bottles of beer.\n",
      "    Take one down, pass it around, 59 bottles of beer on the wall.\n",
      "    \n",
      "59 bottles of beer on the wall, 59 bottles of beer.\n",
      "    Take one down, pass it around, 58 bottles of beer on the wall.\n",
      "    \n",
      "58 bottles of beer on the wall, 58 bottles of beer.\n",
      "    Take one down, pass it around, 57 bottles of beer on the wall.\n",
      "    \n",
      "57 bottles of beer on the wall, 57 bottles of beer.\n",
      "    Take one down, pass it around, 56 bottles of beer on the wall.\n",
      "    \n",
      "56 bottles of beer on the wall, 56 bottles of beer.\n",
      "    Take one down, pass it around, 55 bottles of beer on the wall.\n",
      "    \n",
      "55 bottles of beer on the wall, 55 bottles of beer.\n",
      "    Take one down, pass it around, 54 bottles of beer on the wall.\n",
      "    \n",
      "54 bottles of beer on the wall, 54 bottles of beer.\n",
      "    Take one down, pass it around, 53 bottles of beer on the wall.\n",
      "    \n",
      "53 bottles of beer on the wall, 53 bottles of beer.\n",
      "    Take one down, pass it around, 52 bottles of beer on the wall.\n",
      "    \n",
      "52 bottles of beer on the wall, 52 bottles of beer.\n",
      "    Take one down, pass it around, 51 bottles of beer on the wall.\n",
      "    \n",
      "51 bottles of beer on the wall, 51 bottles of beer.\n",
      "    Take one down, pass it around, 50 bottles of beer on the wall.\n",
      "    \n",
      "50 bottles of beer on the wall, 50 bottles of beer.\n",
      "    Take one down, pass it around, 49 bottles of beer on the wall.\n",
      "    \n",
      "49 bottles of beer on the wall, 49 bottles of beer.\n",
      "    Take one down, pass it around, 48 bottles of beer on the wall.\n",
      "    \n",
      "48 bottles of beer on the wall, 48 bottles of beer.\n",
      "    Take one down, pass it around, 47 bottles of beer on the wall.\n",
      "    \n",
      "47 bottles of beer on the wall, 47 bottles of beer.\n",
      "    Take one down, pass it around, 46 bottles of beer on the wall.\n",
      "    \n",
      "46 bottles of beer on the wall, 46 bottles of beer.\n",
      "    Take one down, pass it around, 45 bottles of beer on the wall.\n",
      "    \n",
      "45 bottles of beer on the wall, 45 bottles of beer.\n",
      "    Take one down, pass it around, 44 bottles of beer on the wall.\n",
      "    \n",
      "44 bottles of beer on the wall, 44 bottles of beer.\n",
      "    Take one down, pass it around, 43 bottles of beer on the wall.\n",
      "    \n",
      "43 bottles of beer on the wall, 43 bottles of beer.\n",
      "    Take one down, pass it around, 42 bottles of beer on the wall.\n",
      "    \n",
      "42 bottles of beer on the wall, 42 bottles of beer.\n",
      "    Take one down, pass it around, 41 bottles of beer on the wall.\n",
      "    \n",
      "41 bottles of beer on the wall, 41 bottles of beer.\n",
      "    Take one down, pass it around, 40 bottles of beer on the wall.\n",
      "    \n",
      "40 bottles of beer on the wall, 40 bottles of beer.\n",
      "    Take one down, pass it around, 39 bottles of beer on the wall.\n",
      "    \n",
      "39 bottles of beer on the wall, 39 bottles of beer.\n",
      "    Take one down, pass it around, 38 bottles of beer on the wall.\n",
      "    \n",
      "38 bottles of beer on the wall, 38 bottles of beer.\n",
      "    Take one down, pass it around, 37 bottles of beer on the wall.\n",
      "    \n",
      "37 bottles of beer on the wall, 37 bottles of beer.\n",
      "    Take one down, pass it around, 36 bottles of beer on the wall.\n",
      "    \n",
      "36 bottles of beer on the wall, 36 bottles of beer.\n",
      "    Take one down, pass it around, 35 bottles of beer on the wall.\n",
      "    \n",
      "35 bottles of beer on the wall, 35 bottles of beer.\n",
      "    Take one down, pass it around, 34 bottles of beer on the wall.\n",
      "    \n",
      "34 bottles of beer on the wall, 34 bottles of beer.\n",
      "    Take one down, pass it around, 33 bottles of beer on the wall.\n",
      "    \n",
      "33 bottles of beer on the wall, 33 bottles of beer.\n",
      "    Take one down, pass it around, 32 bottles of beer on the wall.\n",
      "    \n",
      "32 bottles of beer on the wall, 32 bottles of beer.\n",
      "    Take one down, pass it around, 31 bottles of beer on the wall.\n",
      "    \n",
      "31 bottles of beer on the wall, 31 bottles of beer.\n",
      "    Take one down, pass it around, 30 bottles of beer on the wall.\n",
      "    \n",
      "30 bottles of beer on the wall, 30 bottles of beer.\n",
      "    Take one down, pass it around, 29 bottles of beer on the wall.\n",
      "    \n",
      "29 bottles of beer on the wall, 29 bottles of beer.\n",
      "    Take one down, pass it around, 28 bottles of beer on the wall.\n",
      "    \n",
      "28 bottles of beer on the wall, 28 bottles of beer.\n",
      "    Take one down, pass it around, 27 bottles of beer on the wall.\n",
      "    \n",
      "27 bottles of beer on the wall, 27 bottles of beer.\n",
      "    Take one down, pass it around, 26 bottles of beer on the wall.\n",
      "    \n",
      "26 bottles of beer on the wall, 26 bottles of beer.\n",
      "    Take one down, pass it around, 25 bottles of beer on the wall.\n",
      "    \n",
      "25 bottles of beer on the wall, 25 bottles of beer.\n",
      "    Take one down, pass it around, 24 bottles of beer on the wall.\n",
      "    \n",
      "24 bottles of beer on the wall, 24 bottles of beer.\n",
      "    Take one down, pass it around, 23 bottles of beer on the wall.\n",
      "    \n",
      "23 bottles of beer on the wall, 23 bottles of beer.\n",
      "    Take one down, pass it around, 22 bottles of beer on the wall.\n",
      "    \n",
      "22 bottles of beer on the wall, 22 bottles of beer.\n",
      "    Take one down, pass it around, 21 bottles of beer on the wall.\n",
      "    \n",
      "21 bottles of beer on the wall, 21 bottles of beer.\n",
      "    Take one down, pass it around, 20 bottles of beer on the wall.\n",
      "    \n",
      "20 bottles of beer on the wall, 20 bottles of beer.\n",
      "    Take one down, pass it around, 19 bottles of beer on the wall.\n",
      "    \n",
      "19 bottles of beer on the wall, 19 bottles of beer.\n",
      "    Take one down, pass it around, 18 bottles of beer on the wall.\n",
      "    \n",
      "18 bottles of beer on the wall, 18 bottles of beer.\n",
      "    Take one down, pass it around, 17 bottles of beer on the wall.\n",
      "    \n",
      "17 bottles of beer on the wall, 17 bottles of beer.\n",
      "    Take one down, pass it around, 16 bottles of beer on the wall.\n",
      "    \n",
      "16 bottles of beer on the wall, 16 bottles of beer.\n",
      "    Take one down, pass it around, 15 bottles of beer on the wall.\n",
      "    \n",
      "15 bottles of beer on the wall, 15 bottles of beer.\n",
      "    Take one down, pass it around, 14 bottles of beer on the wall.\n",
      "    \n",
      "14 bottles of beer on the wall, 14 bottles of beer.\n",
      "    Take one down, pass it around, 13 bottles of beer on the wall.\n",
      "    \n",
      "13 bottles of beer on the wall, 13 bottles of beer.\n",
      "    Take one down, pass it around, 12 bottles of beer on the wall.\n",
      "    \n",
      "12 bottles of beer on the wall, 12 bottles of beer.\n",
      "    Take one down, pass it around, 11 bottles of beer on the wall.\n",
      "    \n",
      "11 bottles of beer on the wall, 11 bottles of beer.\n",
      "    Take one down, pass it around, 10 bottles of beer on the wall.\n",
      "    \n",
      "10 bottles of beer on the wall, 10 bottles of beer.\n",
      "    Take one down, pass it around, 9 bottles of beer on the wall.\n",
      "    \n",
      "9 bottles of beer on the wall, 9 bottles of beer.\n",
      "    Take one down, pass it around, 8 bottles of beer on the wall.\n",
      "    \n",
      "8 bottles of beer on the wall, 8 bottles of beer.\n",
      "    Take one down, pass it around, 7 bottles of beer on the wall.\n",
      "    \n",
      "7 bottles of beer on the wall, 7 bottles of beer.\n",
      "    Take one down, pass it around, 6 bottles of beer on the wall.\n",
      "    \n",
      "6 bottles of beer on the wall, 6 bottles of beer.\n",
      "    Take one down, pass it around, 5 bottles of beer on the wall.\n",
      "    \n",
      "5 bottles of beer on the wall, 5 bottles of beer.\n",
      "    Take one down, pass it around, 4 bottles of beer on the wall.\n",
      "    \n",
      "4 bottles of beer on the wall, 4 bottles of beer.\n",
      "    Take one down, pass it around, 3 bottles of beer on the wall.\n",
      "    \n",
      "3 bottles of beer on the wall, 3 bottles of beer.\n",
      "    Take one down, pass it around, 2 bottles of beer on the wall.\n",
      "    \n",
      "2 bottles of beer on the wall, 2 bottles of beer.\n",
      "    Take one down, pass it around, 1 bottles of beer on the wall.\n",
      "    \n",
      "1 bottles of beer on the wall, 1 bottles of beer.\n",
      "    Take one down, pass it around, 0 bottles of beer on the wall.\n",
      "    \n"
     ]
    }
   ],
   "source": [
    "def sing(bottles,chant=None):\n",
    "    which = chant\n",
    "    sub = \"\"\"{} bottles of beer on the wall, {} bottles of beer.\n",
    "    Take one down, pass it around, {} bottles of beer on the wall.\n",
    "    \"\"\"\n",
    "    mini_sub = '''{} {} {} \\n'''\n",
    "    # print (sub.format(1,2,3))\n",
    "    \n",
    "    if which is None:\n",
    "        which = sub\n",
    "    else:\n",
    "        which = eval(chant)\n",
    "    \n",
    "    def verse(num_bottles,ch):\n",
    "        return ch.format(num_bottles,num_bottles,num_bottles-1)\n",
    "            \n",
    "    def song(bottle_num,ch):\n",
    "        for n in range(bottle_num,0,-1):\n",
    "            print (verse(n,ch))\n",
    "    \n",
    "    song(bottles,which)\n",
    "\n",
    "# for i in range(10,0,-1): print(i)\n",
    "\n",
    "sing(99)"
   ]
  },
  {
   "cell_type": "markdown",
   "metadata": {
    "deletable": true,
    "editable": true
   },
   "source": [
    "# Question 7\n",
    "Write a program that maps a list of words into a list of integers representing the lengths of the correponding words. Write it in three different ways: 1) using a for-loop, 2) using the higher order function map(), and 3) using list comprehensions."
   ]
  },
  {
   "cell_type": "code",
   "execution_count": 23,
   "metadata": {
    "collapsed": false,
    "deletable": true,
    "editable": true
   },
   "outputs": [],
   "source": [
    "def word_to_int(wlist,maptype='for'):\n",
    "    if maptype=='for':\n",
    "        outl = []\n",
    "        for w in wlist:\n",
    "            outl.append(len(w))\n",
    "        return outl\n",
    "    if maptype=='map':\n",
    "        return map(len,wlist)\n",
    "    if maptype=='lst':\n",
    "        return [len(x) for x in wlist]\n"
   ]
  },
  {
   "cell_type": "code",
   "execution_count": 8,
   "metadata": {
    "collapsed": true
   },
   "outputs": [],
   "source": [
    "wordlist = ['Write', 'a', 'program', 'that', 'maps', 'a', 'list', 'of', 'words', 'into', 'a', 'list', 'of', 'integers', 'representing', 'the', 'lengths', 'of', 'the', 'correponding', 'words.', 'Write', 'it', 'in', 'three', 'different', 'ways:', '1)', 'using', 'a', 'for-loop,', '2)', 'using', 'the', 'higher', 'order', 'function', 'map(),', 'and', '3)', 'using', 'list', 'comprehensions.']"
   ]
  },
  {
   "cell_type": "code",
   "execution_count": 25,
   "metadata": {
    "collapsed": false
   },
   "outputs": [
    {
     "name": "stdout",
     "output_type": "stream",
     "text": [
      "FOR: [5, 1, 7, 4, 4, 1, 4, 2, 5, 4, 1, 4, 2, 8, 12, 3, 7, 2, 3, 12, 6, 5, 2, 2, 5, 9, 5, 2, 5, 1, 9, 2, 5, 3, 6, 5, 8, 6, 3, 2, 5, 4, 15]\n",
      "MAP: [5, 1, 7, 4, 4, 1, 4, 2, 5, 4, 1, 4, 2, 8, 12, 3, 7, 2, 3, 12, 6, 5, 2, 2, 5, 9, 5, 2, 5, 1, 9, 2, 5, 3, 6, 5, 8, 6, 3, 2, 5, 4, 15]\n",
      "LST: [5, 1, 7, 4, 4, 1, 4, 2, 5, 4, 1, 4, 2, 8, 12, 3, 7, 2, 3, 12, 6, 5, 2, 2, 5, 9, 5, 2, 5, 1, 9, 2, 5, 3, 6, 5, 8, 6, 3, 2, 5, 4, 15]\n"
     ]
    }
   ],
   "source": [
    "print 'FOR:', word_to_int(wordlist)\n",
    "print 'MAP:', word_to_int(wordlist,'map')\n",
    "print 'LST:', word_to_int(wordlist,'lst')"
   ]
  },
  {
   "cell_type": "markdown",
   "metadata": {
    "deletable": true,
    "editable": true
   },
   "source": [
    "# Question 8\n",
    "Divide 10 by 20 and set the result to a variable named \"A\""
   ]
  },
  {
   "cell_type": "code",
   "execution_count": 31,
   "metadata": {
    "collapsed": false,
    "deletable": true,
    "editable": true
   },
   "outputs": [
    {
     "name": "stdout",
     "output_type": "stream",
     "text": [
      "0.5\n"
     ]
    }
   ],
   "source": [
    "A = 10.0/20\n",
    "print A"
   ]
  },
  {
   "cell_type": "markdown",
   "metadata": {
    "deletable": true,
    "editable": true
   },
   "source": [
    "# Question 9\n",
    "Create a function called division that will divide any two numbers and prints the result (with decimals)."
   ]
  },
  {
   "cell_type": "code",
   "execution_count": 36,
   "metadata": {
    "collapsed": false,
    "deletable": true,
    "editable": true
   },
   "outputs": [
    {
     "name": "stdout",
     "output_type": "stream",
     "text": [
      "None\n",
      "1.75\n",
      "4.0\n"
     ]
    }
   ],
   "source": [
    "def div(a,b):\n",
    "    return (float(a)/(float(b))) if b else None\n",
    "\n",
    "print div(1,0)\n",
    "print div(7,4)\n",
    "print div(20,5)"
   ]
  },
  {
   "cell_type": "markdown",
   "metadata": {
    "deletable": true,
    "editable": true
   },
   "source": [
    "# Question 10\n",
    "Using .split() split my string into separate words in a variable named words"
   ]
  },
  {
   "cell_type": "code",
   "execution_count": 43,
   "metadata": {
    "collapsed": false,
    "deletable": true,
    "editable": true
   },
   "outputs": [
    {
     "name": "stdout",
     "output_type": "stream",
     "text": [
      "['the', 'cow', 'jumped', 'over', 'the', 'moon']\n"
     ]
    }
   ],
   "source": [
    "my_string = \"the cow jumped over the moon\"\n",
    "# put your code here it should return ['the', 'cow', 'jumped', 'over', 'the', 'moon']\n",
    "\n",
    "myss = my_string.split()\n",
    "# automatically splits on a single space\n",
    "print myss"
   ]
  },
  {
   "cell_type": "markdown",
   "metadata": {
    "deletable": true,
    "editable": true
   },
   "source": [
    "# Question 11\n",
    "How many words are in my_string?"
   ]
  },
  {
   "cell_type": "code",
   "execution_count": 44,
   "metadata": {
    "collapsed": false,
    "deletable": true,
    "editable": true
   },
   "outputs": [
    {
     "name": "stdout",
     "output_type": "stream",
     "text": [
      "6\n"
     ]
    }
   ],
   "source": [
    "print len(myss)"
   ]
  },
  {
   "cell_type": "markdown",
   "metadata": {
    "deletable": true,
    "editable": true
   },
   "source": [
    "# Question 12\n",
    "Use a list comprehension to find the length of each word."
   ]
  },
  {
   "cell_type": "code",
   "execution_count": 45,
   "metadata": {
    "collapsed": false,
    "deletable": true,
    "editable": true
   },
   "outputs": [
    {
     "name": "stdout",
     "output_type": "stream",
     "text": [
      "[3, 3, 6, 4, 3, 4]\n"
     ]
    }
   ],
   "source": [
    "print [len(w) for w in myss]"
   ]
  },
  {
   "cell_type": "markdown",
   "metadata": {
    "deletable": true,
    "editable": true
   },
   "source": [
    "# Question 13\n",
    "Put the words back together in a variable called sentence using .join()"
   ]
  },
  {
   "cell_type": "code",
   "execution_count": 48,
   "metadata": {
    "collapsed": false,
    "deletable": true,
    "editable": true
   },
   "outputs": [
    {
     "name": "stdout",
     "output_type": "stream",
     "text": [
      "the cow jumped over the moon\n"
     ]
    }
   ],
   "source": [
    "sentence = ' '.join(myss)\n",
    "print sentence"
   ]
  },
  {
   "cell_type": "markdown",
   "metadata": {
    "deletable": true,
    "editable": true
   },
   "source": [
    "# Question 14\n",
    "Add a \"||\" between each word"
   ]
  },
  {
   "cell_type": "code",
   "execution_count": 49,
   "metadata": {
    "collapsed": false,
    "deletable": true,
    "editable": true
   },
   "outputs": [
    {
     "name": "stdout",
     "output_type": "stream",
     "text": [
      "the||cow||jumped||over||the||moon\n"
     ]
    }
   ],
   "source": [
    "print '||'.join(myss)"
   ]
  },
  {
   "cell_type": "markdown",
   "metadata": {
    "deletable": true,
    "editable": true
   },
   "source": [
    "# Question 15\n",
    "What type of object is created by this code?\n",
    "> `d = {'a':10, 'b':20, 'c':30}`"
   ]
  },
  {
   "cell_type": "code",
   "execution_count": 50,
   "metadata": {
    "collapsed": false,
    "deletable": true,
    "editable": true
   },
   "outputs": [
    {
     "name": "stdout",
     "output_type": "stream",
     "text": [
      "<type 'dict'>\n"
     ]
    }
   ],
   "source": [
    "# Dictionary\n",
    "d = {'a':10, 'b':20, 'c':30}\n",
    "print type(d)"
   ]
  },
  {
   "cell_type": "markdown",
   "metadata": {
    "deletable": true,
    "editable": true
   },
   "source": [
    "# Question 16\n",
    "In the `d` object, what are `a`, `b`, and `c` called?  What are 10, 20, and 30 called?"
   ]
  },
  {
   "cell_type": "code",
   "execution_count": 54,
   "metadata": {
    "collapsed": false,
    "deletable": true,
    "editable": true
   },
   "outputs": [],
   "source": [
    "# items like a b and c are keys, and 10 20, 30 are values"
   ]
  },
  {
   "cell_type": "markdown",
   "metadata": {
    "deletable": true,
    "editable": true
   },
   "source": [
    "# Question 17\n",
    "How do you change the 30 to a 40 in the d object?"
   ]
  },
  {
   "cell_type": "code",
   "execution_count": 55,
   "metadata": {
    "collapsed": false,
    "deletable": true,
    "editable": true
   },
   "outputs": [
    {
     "name": "stdout",
     "output_type": "stream",
     "text": [
      "{'a': 10, 'c': 30, 'b': 20, 'd': 40}\n"
     ]
    }
   ],
   "source": [
    "# assignemnt statement with brackets listed the key\n",
    "d['d'] = 40\n",
    "print d"
   ]
  },
  {
   "cell_type": "markdown",
   "metadata": {
    "deletable": true,
    "editable": true
   },
   "source": [
    "# Question 18\n",
    "From the `people` object, return Brandon's state only.\n",
    "\n",
    "> `people = {'Alice': ['Washington', 'DC'], 'Brandon': ['Arlington', 'VA']}`"
   ]
  },
  {
   "cell_type": "code",
   "execution_count": 56,
   "metadata": {
    "collapsed": false,
    "deletable": true,
    "editable": true
   },
   "outputs": [
    {
     "name": "stdout",
     "output_type": "stream",
     "text": [
      "['Arlington', 'VA']\n"
     ]
    }
   ],
   "source": [
    "people = {'Alice': ['Washington', 'DC'], 'Brandon': ['Arlington', 'VA']}\n",
    "\n",
    "print people['Brandon']"
   ]
  },
  {
   "cell_type": "markdown",
   "metadata": {
    "deletable": true,
    "editable": true
   },
   "source": [
    "# Question 19\n",
    "Define a function `calc` that takes two variables, `a` and `b`, and returns their sum."
   ]
  },
  {
   "cell_type": "code",
   "execution_count": 58,
   "metadata": {
    "collapsed": false,
    "deletable": true,
    "editable": true
   },
   "outputs": [
    {
     "name": "stdout",
     "output_type": "stream",
     "text": [
      "5\n",
      "ca\n"
     ]
    }
   ],
   "source": [
    "def calc(a,b):\n",
    "    return a+b\n",
    "\n",
    "print calc(2,3)\n",
    "print calc('c','a')"
   ]
  },
  {
   "cell_type": "markdown",
   "metadata": {
    "deletable": true,
    "editable": true
   },
   "source": [
    "# Question 20\n",
    "The prime factors of 13195 are 5, 7, 13 and 29.  What is the largest prime factor of the number 600851475143?"
   ]
  },
  {
   "cell_type": "code",
   "execution_count": 67,
   "metadata": {
    "collapsed": false,
    "deletable": true,
    "editable": true
   },
   "outputs": [],
   "source": [
    "def lpf(integ):\n",
    "    x = 1\n",
    "    y = int (integ**0.5)\n",
    "    fac = [1]\n",
    "    for chk in range(2,y+1):\n",
    "        # could also say if (not integ%chk)\n",
    "        # but below is less confusing\n",
    "        if (integ%chk) == 0:\n",
    "            fac.append(chk)\n",
    "            fac.append(integ/chk)\n",
    "    return max(fac)"
   ]
  },
  {
   "cell_type": "code",
   "execution_count": 70,
   "metadata": {
    "collapsed": false
   },
   "outputs": [
    {
     "name": "stdout",
     "output_type": "stream",
     "text": [
      "5\n",
      "1\n",
      "8462696833\n",
      "21845\n"
     ]
    }
   ],
   "source": [
    "print lpf(15)\n",
    "print lpf(31)\n",
    "print lpf(600851475143)\n",
    "print lpf(65535)"
   ]
  }
 ],
 "metadata": {
  "kernelspec": {
   "display_name": "Python 2",
   "language": "python",
   "name": "python2"
  },
  "language_info": {
   "codemirror_mode": {
    "name": "ipython",
    "version": 2
   },
   "file_extension": ".py",
   "mimetype": "text/x-python",
   "name": "python",
   "nbconvert_exporter": "python",
   "pygments_lexer": "ipython2",
   "version": "2.7.11"
  }
 },
 "nbformat": 4,
 "nbformat_minor": 2
}
