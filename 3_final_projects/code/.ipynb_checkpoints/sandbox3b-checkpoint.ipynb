{
 "cells": [
  {
   "cell_type": "code",
   "execution_count": 1,
   "metadata": {
    "collapsed": true
   },
   "outputs": [],
   "source": [
    "import os\n",
    "import pandas as pd\n",
    "# import matplotlib\n",
    "import matplotlib.pyplot as plt\n",
    "get_ipython().magic(u'matplotlib inline')\n",
    "import sqlite3\n",
    "import seaborn as sns\n",
    "from sklearn import tree"
   ]
  },
  {
   "cell_type": "code",
   "execution_count": 2,
   "metadata": {
    "collapsed": false
   },
   "outputs": [
    {
     "data": {
      "text/html": [
       "<div>\n",
       "<table border=\"1\" class=\"dataframe\">\n",
       "  <thead>\n",
       "    <tr style=\"text-align: right;\">\n",
       "      <th></th>\n",
       "      <th>LoanStatNew</th>\n",
       "      <th>Description</th>\n",
       "    </tr>\n",
       "  </thead>\n",
       "  <tbody>\n",
       "    <tr>\n",
       "      <th>0</th>\n",
       "      <td>addr_state</td>\n",
       "      <td>The state provided by the borrower in the loan...</td>\n",
       "    </tr>\n",
       "    <tr>\n",
       "      <th>1</th>\n",
       "      <td>annual_inc</td>\n",
       "      <td>The self-reported annual income provided by th...</td>\n",
       "    </tr>\n",
       "    <tr>\n",
       "      <th>2</th>\n",
       "      <td>annual_inc_joint</td>\n",
       "      <td>The combined self-reported annual income provi...</td>\n",
       "    </tr>\n",
       "    <tr>\n",
       "      <th>3</th>\n",
       "      <td>application_type</td>\n",
       "      <td>Indicates whether the loan is an individual ap...</td>\n",
       "    </tr>\n",
       "    <tr>\n",
       "      <th>4</th>\n",
       "      <td>collection_recovery_fee</td>\n",
       "      <td>post charge off collection fee</td>\n",
       "    </tr>\n",
       "    <tr>\n",
       "      <th>5</th>\n",
       "      <td>collections_12_mths_ex_med</td>\n",
       "      <td>Number of collections in 12 months excluding m...</td>\n",
       "    </tr>\n",
       "    <tr>\n",
       "      <th>6</th>\n",
       "      <td>delinq_2yrs</td>\n",
       "      <td>The number of 30+ days past-due incidences of ...</td>\n",
       "    </tr>\n",
       "    <tr>\n",
       "      <th>7</th>\n",
       "      <td>desc</td>\n",
       "      <td>Loan description provided by the borrower</td>\n",
       "    </tr>\n",
       "    <tr>\n",
       "      <th>8</th>\n",
       "      <td>dti</td>\n",
       "      <td>A ratio calculated using the borrower’s total ...</td>\n",
       "    </tr>\n",
       "    <tr>\n",
       "      <th>9</th>\n",
       "      <td>dti_joint</td>\n",
       "      <td>A ratio calculated using the co-borrowers' tot...</td>\n",
       "    </tr>\n",
       "    <tr>\n",
       "      <th>10</th>\n",
       "      <td>earliest_cr_line</td>\n",
       "      <td>The month the borrower's earliest reported cre...</td>\n",
       "    </tr>\n",
       "    <tr>\n",
       "      <th>11</th>\n",
       "      <td>emp_length</td>\n",
       "      <td>Employment length in years. Possible values ar...</td>\n",
       "    </tr>\n",
       "    <tr>\n",
       "      <th>12</th>\n",
       "      <td>emp_title</td>\n",
       "      <td>The job title supplied by the Borrower when ap...</td>\n",
       "    </tr>\n",
       "    <tr>\n",
       "      <th>13</th>\n",
       "      <td>fico_range_high</td>\n",
       "      <td>The upper boundary range the borrower’s FICO a...</td>\n",
       "    </tr>\n",
       "    <tr>\n",
       "      <th>14</th>\n",
       "      <td>fico_range_low</td>\n",
       "      <td>The lower boundary range the borrower’s FICO a...</td>\n",
       "    </tr>\n",
       "    <tr>\n",
       "      <th>15</th>\n",
       "      <td>funded_amnt</td>\n",
       "      <td>The total amount committed to that loan at tha...</td>\n",
       "    </tr>\n",
       "    <tr>\n",
       "      <th>16</th>\n",
       "      <td>funded_amnt_inv</td>\n",
       "      <td>The total amount committed by investors for th...</td>\n",
       "    </tr>\n",
       "    <tr>\n",
       "      <th>17</th>\n",
       "      <td>grade</td>\n",
       "      <td>LC assigned loan grade</td>\n",
       "    </tr>\n",
       "    <tr>\n",
       "      <th>18</th>\n",
       "      <td>home_ownership</td>\n",
       "      <td>The home ownership status provided by the borr...</td>\n",
       "    </tr>\n",
       "    <tr>\n",
       "      <th>19</th>\n",
       "      <td>id</td>\n",
       "      <td>A unique LC assigned ID for the loan listing.</td>\n",
       "    </tr>\n",
       "    <tr>\n",
       "      <th>20</th>\n",
       "      <td>initial_list_status</td>\n",
       "      <td>The initial listing status of the loan. Possib...</td>\n",
       "    </tr>\n",
       "    <tr>\n",
       "      <th>21</th>\n",
       "      <td>inq_last_6mths</td>\n",
       "      <td>The number of inquiries in past 6 months (excl...</td>\n",
       "    </tr>\n",
       "    <tr>\n",
       "      <th>22</th>\n",
       "      <td>installment</td>\n",
       "      <td>The monthly payment owed by the borrower if th...</td>\n",
       "    </tr>\n",
       "    <tr>\n",
       "      <th>23</th>\n",
       "      <td>int_rate</td>\n",
       "      <td>Interest Rate on the loan</td>\n",
       "    </tr>\n",
       "    <tr>\n",
       "      <th>24</th>\n",
       "      <td>is_inc_v</td>\n",
       "      <td>Indicates if income was verified by LC, not ve...</td>\n",
       "    </tr>\n",
       "    <tr>\n",
       "      <th>25</th>\n",
       "      <td>issue_d</td>\n",
       "      <td>The month which the loan was funded</td>\n",
       "    </tr>\n",
       "    <tr>\n",
       "      <th>26</th>\n",
       "      <td>last_credit_pull_d</td>\n",
       "      <td>The most recent month LC pulled credit for thi...</td>\n",
       "    </tr>\n",
       "    <tr>\n",
       "      <th>27</th>\n",
       "      <td>last_fico_range_high</td>\n",
       "      <td>The upper boundary range the borrower’s last F...</td>\n",
       "    </tr>\n",
       "    <tr>\n",
       "      <th>28</th>\n",
       "      <td>last_fico_range_low</td>\n",
       "      <td>The lower boundary range the borrower’s last F...</td>\n",
       "    </tr>\n",
       "    <tr>\n",
       "      <th>29</th>\n",
       "      <td>last_pymnt_amnt</td>\n",
       "      <td>Last total payment amount received</td>\n",
       "    </tr>\n",
       "    <tr>\n",
       "      <th>...</th>\n",
       "      <td>...</td>\n",
       "      <td>...</td>\n",
       "    </tr>\n",
       "    <tr>\n",
       "      <th>50</th>\n",
       "      <td>title</td>\n",
       "      <td>The loan title provided by the borrower</td>\n",
       "    </tr>\n",
       "    <tr>\n",
       "      <th>51</th>\n",
       "      <td>total_acc</td>\n",
       "      <td>The total number of credit lines currently in ...</td>\n",
       "    </tr>\n",
       "    <tr>\n",
       "      <th>52</th>\n",
       "      <td>total_pymnt</td>\n",
       "      <td>Payments received to date for total amount funded</td>\n",
       "    </tr>\n",
       "    <tr>\n",
       "      <th>53</th>\n",
       "      <td>total_pymnt_inv</td>\n",
       "      <td>Payments received to date for portion of total...</td>\n",
       "    </tr>\n",
       "    <tr>\n",
       "      <th>54</th>\n",
       "      <td>total_rec_int</td>\n",
       "      <td>Interest received to date</td>\n",
       "    </tr>\n",
       "    <tr>\n",
       "      <th>55</th>\n",
       "      <td>total_rec_late_fee</td>\n",
       "      <td>Late fees received to date</td>\n",
       "    </tr>\n",
       "    <tr>\n",
       "      <th>56</th>\n",
       "      <td>total_rec_prncp</td>\n",
       "      <td>Principal received to date</td>\n",
       "    </tr>\n",
       "    <tr>\n",
       "      <th>57</th>\n",
       "      <td>url</td>\n",
       "      <td>URL for the LC page with listing data.</td>\n",
       "    </tr>\n",
       "    <tr>\n",
       "      <th>58</th>\n",
       "      <td>verified_status_joint</td>\n",
       "      <td>Indicates if the co-borrowers' joint income wa...</td>\n",
       "    </tr>\n",
       "    <tr>\n",
       "      <th>59</th>\n",
       "      <td>zip_code</td>\n",
       "      <td>The first 3 numbers of the zip code provided b...</td>\n",
       "    </tr>\n",
       "    <tr>\n",
       "      <th>60</th>\n",
       "      <td>open_acc_6m</td>\n",
       "      <td>Number of open trades in last 6 months</td>\n",
       "    </tr>\n",
       "    <tr>\n",
       "      <th>61</th>\n",
       "      <td>open_il_6m</td>\n",
       "      <td>Number of currently active installment trades</td>\n",
       "    </tr>\n",
       "    <tr>\n",
       "      <th>62</th>\n",
       "      <td>open_il_12m</td>\n",
       "      <td>Number of installment accounts opened in past ...</td>\n",
       "    </tr>\n",
       "    <tr>\n",
       "      <th>63</th>\n",
       "      <td>open_il_24m</td>\n",
       "      <td>Number of installment accounts opened in past ...</td>\n",
       "    </tr>\n",
       "    <tr>\n",
       "      <th>64</th>\n",
       "      <td>mths_since_rcnt_il</td>\n",
       "      <td>Months since most recent installment accounts ...</td>\n",
       "    </tr>\n",
       "    <tr>\n",
       "      <th>65</th>\n",
       "      <td>total_bal_il</td>\n",
       "      <td>Total current balance of all installment accounts</td>\n",
       "    </tr>\n",
       "    <tr>\n",
       "      <th>66</th>\n",
       "      <td>il_util</td>\n",
       "      <td>Ratio of total current balance to high credit/...</td>\n",
       "    </tr>\n",
       "    <tr>\n",
       "      <th>67</th>\n",
       "      <td>open_rv_12m</td>\n",
       "      <td>Number of revolving trades opened in past 12 m...</td>\n",
       "    </tr>\n",
       "    <tr>\n",
       "      <th>68</th>\n",
       "      <td>open_rv_24m</td>\n",
       "      <td>Number of revolving trades opened in past 24 m...</td>\n",
       "    </tr>\n",
       "    <tr>\n",
       "      <th>69</th>\n",
       "      <td>max_bal_bc</td>\n",
       "      <td>Maximum current balance owed on all revolving ...</td>\n",
       "    </tr>\n",
       "    <tr>\n",
       "      <th>70</th>\n",
       "      <td>all_util</td>\n",
       "      <td>Balance to credit limit on all trades</td>\n",
       "    </tr>\n",
       "    <tr>\n",
       "      <th>71</th>\n",
       "      <td>total_rev_hi_lim</td>\n",
       "      <td>Total revolving high credit/credit limit</td>\n",
       "    </tr>\n",
       "    <tr>\n",
       "      <th>72</th>\n",
       "      <td>inq_fi</td>\n",
       "      <td>Number of personal finance inquiries</td>\n",
       "    </tr>\n",
       "    <tr>\n",
       "      <th>73</th>\n",
       "      <td>total_cu_tl</td>\n",
       "      <td>Number of finance trades</td>\n",
       "    </tr>\n",
       "    <tr>\n",
       "      <th>74</th>\n",
       "      <td>inq_last_12m</td>\n",
       "      <td>Number of credit inquiries in past 12 months</td>\n",
       "    </tr>\n",
       "    <tr>\n",
       "      <th>75</th>\n",
       "      <td>acc_now_delinq</td>\n",
       "      <td>The number of accounts on which the borrower i...</td>\n",
       "    </tr>\n",
       "    <tr>\n",
       "      <th>76</th>\n",
       "      <td>tot_coll_amt</td>\n",
       "      <td>Total collection amounts ever owed</td>\n",
       "    </tr>\n",
       "    <tr>\n",
       "      <th>77</th>\n",
       "      <td>tot_cur_bal</td>\n",
       "      <td>Total current balance of all accounts</td>\n",
       "    </tr>\n",
       "    <tr>\n",
       "      <th>78</th>\n",
       "      <td>NaN</td>\n",
       "      <td>NaN</td>\n",
       "    </tr>\n",
       "    <tr>\n",
       "      <th>79</th>\n",
       "      <td>NaN</td>\n",
       "      <td>* Employer Title replaces Employer Name for al...</td>\n",
       "    </tr>\n",
       "  </tbody>\n",
       "</table>\n",
       "<p>80 rows × 2 columns</p>\n",
       "</div>"
      ],
      "text/plain": [
       "                   LoanStatNew  \\\n",
       "0                   addr_state   \n",
       "1                   annual_inc   \n",
       "2             annual_inc_joint   \n",
       "3             application_type   \n",
       "4      collection_recovery_fee   \n",
       "5   collections_12_mths_ex_med   \n",
       "6                  delinq_2yrs   \n",
       "7                         desc   \n",
       "8                          dti   \n",
       "9                    dti_joint   \n",
       "10            earliest_cr_line   \n",
       "11                  emp_length   \n",
       "12                   emp_title   \n",
       "13             fico_range_high   \n",
       "14              fico_range_low   \n",
       "15                 funded_amnt   \n",
       "16             funded_amnt_inv   \n",
       "17                       grade   \n",
       "18              home_ownership   \n",
       "19                          id   \n",
       "20         initial_list_status   \n",
       "21              inq_last_6mths   \n",
       "22                 installment   \n",
       "23                    int_rate   \n",
       "24                    is_inc_v   \n",
       "25                     issue_d   \n",
       "26          last_credit_pull_d   \n",
       "27        last_fico_range_high   \n",
       "28         last_fico_range_low   \n",
       "29             last_pymnt_amnt   \n",
       "..                         ...   \n",
       "50                       title   \n",
       "51                   total_acc   \n",
       "52                 total_pymnt   \n",
       "53             total_pymnt_inv   \n",
       "54               total_rec_int   \n",
       "55          total_rec_late_fee   \n",
       "56             total_rec_prncp   \n",
       "57                         url   \n",
       "58       verified_status_joint   \n",
       "59                    zip_code   \n",
       "60                 open_acc_6m   \n",
       "61                  open_il_6m   \n",
       "62                 open_il_12m   \n",
       "63                 open_il_24m   \n",
       "64          mths_since_rcnt_il   \n",
       "65                total_bal_il   \n",
       "66                     il_util   \n",
       "67                 open_rv_12m   \n",
       "68                 open_rv_24m   \n",
       "69                  max_bal_bc   \n",
       "70                    all_util   \n",
       "71          total_rev_hi_lim     \n",
       "72                      inq_fi   \n",
       "73                 total_cu_tl   \n",
       "74                inq_last_12m   \n",
       "75              acc_now_delinq   \n",
       "76                tot_coll_amt   \n",
       "77                 tot_cur_bal   \n",
       "78                         NaN   \n",
       "79                         NaN   \n",
       "\n",
       "                                          Description  \n",
       "0   The state provided by the borrower in the loan...  \n",
       "1   The self-reported annual income provided by th...  \n",
       "2   The combined self-reported annual income provi...  \n",
       "3   Indicates whether the loan is an individual ap...  \n",
       "4                      post charge off collection fee  \n",
       "5   Number of collections in 12 months excluding m...  \n",
       "6   The number of 30+ days past-due incidences of ...  \n",
       "7           Loan description provided by the borrower  \n",
       "8   A ratio calculated using the borrower’s total ...  \n",
       "9   A ratio calculated using the co-borrowers' tot...  \n",
       "10  The month the borrower's earliest reported cre...  \n",
       "11  Employment length in years. Possible values ar...  \n",
       "12  The job title supplied by the Borrower when ap...  \n",
       "13  The upper boundary range the borrower’s FICO a...  \n",
       "14  The lower boundary range the borrower’s FICO a...  \n",
       "15  The total amount committed to that loan at tha...  \n",
       "16  The total amount committed by investors for th...  \n",
       "17                             LC assigned loan grade  \n",
       "18  The home ownership status provided by the borr...  \n",
       "19      A unique LC assigned ID for the loan listing.  \n",
       "20  The initial listing status of the loan. Possib...  \n",
       "21  The number of inquiries in past 6 months (excl...  \n",
       "22  The monthly payment owed by the borrower if th...  \n",
       "23                          Interest Rate on the loan  \n",
       "24  Indicates if income was verified by LC, not ve...  \n",
       "25                The month which the loan was funded  \n",
       "26  The most recent month LC pulled credit for thi...  \n",
       "27  The upper boundary range the borrower’s last F...  \n",
       "28  The lower boundary range the borrower’s last F...  \n",
       "29                 Last total payment amount received  \n",
       "..                                                ...  \n",
       "50            The loan title provided by the borrower  \n",
       "51  The total number of credit lines currently in ...  \n",
       "52  Payments received to date for total amount funded  \n",
       "53  Payments received to date for portion of total...  \n",
       "54                          Interest received to date  \n",
       "55                         Late fees received to date  \n",
       "56                         Principal received to date  \n",
       "57             URL for the LC page with listing data.  \n",
       "58  Indicates if the co-borrowers' joint income wa...  \n",
       "59  The first 3 numbers of the zip code provided b...  \n",
       "60             Number of open trades in last 6 months  \n",
       "61      Number of currently active installment trades  \n",
       "62  Number of installment accounts opened in past ...  \n",
       "63  Number of installment accounts opened in past ...  \n",
       "64  Months since most recent installment accounts ...  \n",
       "65  Total current balance of all installment accounts  \n",
       "66  Ratio of total current balance to high credit/...  \n",
       "67  Number of revolving trades opened in past 12 m...  \n",
       "68  Number of revolving trades opened in past 24 m...  \n",
       "69  Maximum current balance owed on all revolving ...  \n",
       "70              Balance to credit limit on all trades  \n",
       "71           Total revolving high credit/credit limit  \n",
       "72               Number of personal finance inquiries  \n",
       "73                           Number of finance trades  \n",
       "74       Number of credit inquiries in past 12 months  \n",
       "75  The number of accounts on which the borrower i...  \n",
       "76                 Total collection amounts ever owed  \n",
       "77              Total current balance of all accounts  \n",
       "78                                                NaN  \n",
       "79  * Employer Title replaces Employer Name for al...  \n",
       "\n",
       "[80 rows x 2 columns]"
      ]
     },
     "execution_count": 2,
     "metadata": {},
     "output_type": "execute_result"
    }
   ],
   "source": [
    "data_dictionary = pd.read_excel(\"../assets/lending-club-loan-data/LCDataDictionary.xlsx\")\n",
    "data_dictionary"
   ]
  },
  {
   "cell_type": "code",
   "execution_count": 3,
   "metadata": {
    "collapsed": false
   },
   "outputs": [
    {
     "data": {
      "text/plain": [
       "'select annual_inc,annual_inc_joint,application_type,delinq_2yrs,desc,dti,dti_joint,earliest_cr_line,emp_length,emp_title,funded_amnt,grade,home_ownership,installment,int_rate,loan_amnt,loan_status,mths_since_last_delinq,open_acc,out_prncp,purpose,revol_bal,sub_grade,term,total_acc,total_rec_late_fee,total_rec_prncp from loan;'"
      ]
     },
     "execution_count": 3,
     "metadata": {},
     "output_type": "execute_result"
    }
   ],
   "source": [
    "col_of_interest = [\n",
    "'annual_inc',       'annual_inc_joint', 'application_type',\n",
    "'delinq_2yrs',      'desc',             'dti',\n",
    "'dti_joint',        'earliest_cr_line', 'emp_length',\n",
    "'emp_title',        'funded_amnt',      'grade',\n",
    "'home_ownership',   'installment',      'int_rate',\n",
    "'loan_amnt',        'loan_status',      'mths_since_last_delinq',\n",
    "'open_acc',         'out_prncp',        'purpose',\n",
    "'revol_bal',        'sub_grade',        'term',\n",
    "'total_acc',        'total_rec_late_fee','total_rec_prncp']\n",
    "\n",
    "other_cols = []\n",
    "\n",
    "query = \"select {} from loan;\".format(','.join(col_of_interest))\n",
    "query"
   ]
  },
  {
   "cell_type": "code",
   "execution_count": 4,
   "metadata": {
    "collapsed": true
   },
   "outputs": [],
   "source": [
    "# 1 minute to load\n",
    "_loantable_connection = sqlite3.connect('../assets/lending-club-loan-data/database.sqlite')\n",
    "loandf = pd.read_sql(query,_loantable_connection)\n",
    "_loantable_connection.close()"
   ]
  },
  {
   "cell_type": "code",
   "execution_count": 5,
   "metadata": {
    "collapsed": true
   },
   "outputs": [],
   "source": [
    "loandf['int_rate'] = loandf.int_rate.str.strip()\n",
    "loandf['interest_rate'] = loandf.int_rate.str.strip('%')\n",
    "loandf.interest_rate = pd.to_numeric(loandf['interest_rate'])"
   ]
  },
  {
   "cell_type": "code",
   "execution_count": 6,
   "metadata": {
    "collapsed": false
   },
   "outputs": [
    {
     "data": {
      "text/html": [
       "<div>\n",
       "<table border=\"1\" class=\"dataframe\">\n",
       "  <thead>\n",
       "    <tr style=\"text-align: right;\">\n",
       "      <th>col_0</th>\n",
       "      <th>count</th>\n",
       "    </tr>\n",
       "    <tr>\n",
       "      <th>home_ownership</th>\n",
       "      <th></th>\n",
       "    </tr>\n",
       "  </thead>\n",
       "  <tbody>\n",
       "    <tr>\n",
       "      <th>ANY</th>\n",
       "      <td>3</td>\n",
       "    </tr>\n",
       "    <tr>\n",
       "      <th>MORTGAGE</th>\n",
       "      <td>443558</td>\n",
       "    </tr>\n",
       "    <tr>\n",
       "      <th>NONE</th>\n",
       "      <td>50</td>\n",
       "    </tr>\n",
       "    <tr>\n",
       "      <th>OTHER</th>\n",
       "      <td>182</td>\n",
       "    </tr>\n",
       "    <tr>\n",
       "      <th>OWN</th>\n",
       "      <td>87471</td>\n",
       "    </tr>\n",
       "    <tr>\n",
       "      <th>RENT</th>\n",
       "      <td>356118</td>\n",
       "    </tr>\n",
       "  </tbody>\n",
       "</table>\n",
       "</div>"
      ],
      "text/plain": [
       "col_0            count\n",
       "home_ownership        \n",
       "ANY                  3\n",
       "MORTGAGE        443558\n",
       "NONE                50\n",
       "OTHER              182\n",
       "OWN              87471\n",
       "RENT            356118"
      ]
     },
     "execution_count": 6,
     "metadata": {},
     "output_type": "execute_result"
    }
   ],
   "source": [
    "pd.crosstab(index=loandf['home_ownership'], columns='count')"
   ]
  },
  {
   "cell_type": "code",
   "execution_count": 7,
   "metadata": {
    "collapsed": false
   },
   "outputs": [
    {
     "data": {
      "text/html": [
       "<div>\n",
       "<table border=\"1\" class=\"dataframe\">\n",
       "  <thead>\n",
       "    <tr style=\"text-align: right;\">\n",
       "      <th>col_0</th>\n",
       "      <th>count</th>\n",
       "    </tr>\n",
       "    <tr>\n",
       "      <th>grade</th>\n",
       "      <th></th>\n",
       "    </tr>\n",
       "  </thead>\n",
       "  <tbody>\n",
       "    <tr>\n",
       "      <th>A</th>\n",
       "      <td>148203</td>\n",
       "    </tr>\n",
       "    <tr>\n",
       "      <th>B</th>\n",
       "      <td>254535</td>\n",
       "    </tr>\n",
       "    <tr>\n",
       "      <th>C</th>\n",
       "      <td>245860</td>\n",
       "    </tr>\n",
       "    <tr>\n",
       "      <th>D</th>\n",
       "      <td>139543</td>\n",
       "    </tr>\n",
       "    <tr>\n",
       "      <th>E</th>\n",
       "      <td>70705</td>\n",
       "    </tr>\n",
       "    <tr>\n",
       "      <th>F</th>\n",
       "      <td>23047</td>\n",
       "    </tr>\n",
       "    <tr>\n",
       "      <th>G</th>\n",
       "      <td>5489</td>\n",
       "    </tr>\n",
       "  </tbody>\n",
       "</table>\n",
       "</div>"
      ],
      "text/plain": [
       "col_0   count\n",
       "grade        \n",
       "A      148203\n",
       "B      254535\n",
       "C      245860\n",
       "D      139543\n",
       "E       70705\n",
       "F       23047\n",
       "G        5489"
      ]
     },
     "execution_count": 7,
     "metadata": {},
     "output_type": "execute_result"
    }
   ],
   "source": [
    "pd.crosstab(index=loandf['grade'], columns='count')"
   ]
  },
  {
   "cell_type": "code",
   "execution_count": 11,
   "metadata": {
    "collapsed": false
   },
   "outputs": [
    {
     "data": {
      "text/html": [
       "<div>\n",
       "<table border=\"1\" class=\"dataframe\">\n",
       "  <thead>\n",
       "    <tr style=\"text-align: right;\">\n",
       "      <th>col_0</th>\n",
       "      <th>count</th>\n",
       "    </tr>\n",
       "    <tr>\n",
       "      <th>loan_status</th>\n",
       "      <th></th>\n",
       "    </tr>\n",
       "  </thead>\n",
       "  <tbody>\n",
       "    <tr>\n",
       "      <th>Charged Off</th>\n",
       "      <td>45248</td>\n",
       "    </tr>\n",
       "    <tr>\n",
       "      <th>Current</th>\n",
       "      <td>601781</td>\n",
       "    </tr>\n",
       "    <tr>\n",
       "      <th>Default</th>\n",
       "      <td>1219</td>\n",
       "    </tr>\n",
       "    <tr>\n",
       "      <th>Does not meet the credit policy. Status:Charged Off</th>\n",
       "      <td>761</td>\n",
       "    </tr>\n",
       "    <tr>\n",
       "      <th>Does not meet the credit policy. Status:Fully Paid</th>\n",
       "      <td>1988</td>\n",
       "    </tr>\n",
       "    <tr>\n",
       "      <th>Fully Paid</th>\n",
       "      <td>207724</td>\n",
       "    </tr>\n",
       "    <tr>\n",
       "      <th>In Grace Period</th>\n",
       "      <td>6253</td>\n",
       "    </tr>\n",
       "    <tr>\n",
       "      <th>Issued</th>\n",
       "      <td>8460</td>\n",
       "    </tr>\n",
       "    <tr>\n",
       "      <th>Late (16-30 days)</th>\n",
       "      <td>2357</td>\n",
       "    </tr>\n",
       "    <tr>\n",
       "      <th>Late (31-120 days)</th>\n",
       "      <td>11591</td>\n",
       "    </tr>\n",
       "  </tbody>\n",
       "</table>\n",
       "</div>"
      ],
      "text/plain": [
       "col_0                                                count\n",
       "loan_status                                               \n",
       "Charged Off                                          45248\n",
       "Current                                             601781\n",
       "Default                                               1219\n",
       "Does not meet the credit policy. Status:Charged...     761\n",
       "Does not meet the credit policy. Status:Fully Paid    1988\n",
       "Fully Paid                                          207724\n",
       "In Grace Period                                       6253\n",
       "Issued                                                8460\n",
       "Late (16-30 days)                                     2357\n",
       "Late (31-120 days)                                   11591"
      ]
     },
     "execution_count": 11,
     "metadata": {},
     "output_type": "execute_result"
    }
   ],
   "source": [
    "pd.crosstab(index=loandf['loan_status'], columns='count')"
   ]
  },
  {
   "cell_type": "code",
   "execution_count": null,
   "metadata": {
    "collapsed": true
   },
   "outputs": [],
   "source": [
    "t1 = tree.DecisionTreeClassifier()"
   ]
  },
  {
   "cell_type": "code",
   "execution_count": 14,
   "metadata": {
    "collapsed": false
   },
   "outputs": [
    {
     "data": {
      "text/plain": [
       "array([ '  Borrower added on 12/22/11 > I need to upgrade my business technologies.<br>',\n",
       "       '  Borrower added on 12/22/11 > I plan to use this money to finance the motorcycle i am looking at. I plan to have it paid off as soon as possible/when i sell my old bike. I only need this money because the deal im looking at is to good to pass up.<br><br>  Borrower added on 12/22/11 > I plan to use this money to finance the motorcycle i am looking at. I plan to have it paid off as soon as possible/when i sell my old bike.I only need this money because the deal im looking at is to good to pass up. I have finished college with an associates degree in business and its takingmeplaces<br>',\n",
       "       None, ...,\n",
       "       'I need a lower interest loan to pay off my citifinancial loan.  ',\n",
       "       'I am looking for a loan to pay my credit cards off as well as making some very much needed auto repairs',\n",
       "       'I am in my senior year of college in obtaining a bachelors degree in criminal justice.  I do not qualify for financial aid and have used all stafford loans available.  My tuition is approx. $1200 a month and I have 10 courses left which adds up to over $10,000.  I need some assistance to cover my tuition until my graduation date which is August of 2009.'], dtype=object)"
      ]
     },
     "execution_count": 14,
     "metadata": {},
     "output_type": "execute_result"
    }
   ],
   "source": [
    "loandf.desc.unique()"
   ]
  },
  {
   "cell_type": "code",
   "execution_count": 15,
   "metadata": {
    "collapsed": false
   },
   "outputs": [
    {
     "data": {
      "text/plain": [
       "array(['Jan-1985', 'Apr-1999', 'Nov-2001', 'Feb-1996', 'Jan-1996',\n",
       "       'Nov-2004', 'Jul-2005', 'Jan-2007', 'Apr-2004', 'Sep-2004',\n",
       "       'Jan-1998', 'Oct-1989', 'Jul-2003', 'May-1991', 'Sep-2007',\n",
       "       'Oct-1998', 'Aug-1993', 'Oct-2003', 'Jan-2001', 'Nov-1997',\n",
       "       'Feb-1983', 'Jul-1985', 'Apr-2003', 'Jun-2001', 'Feb-2002',\n",
       "       'Aug-1984', 'Nov-2006', 'Dec-1987', 'Nov-1981', 'Feb-1997',\n",
       "       'Apr-2005', 'Oct-2007', 'Dec-2000', 'Apr-2007', 'Dec-2001',\n",
       "       'Jan-2003', 'Mar-1994', 'Sep-1998', 'Jun-2004', 'Nov-1995',\n",
       "       'Jul-1999', 'Jun-1995', 'Sep-1992', 'Jan-2002', 'Apr-1992',\n",
       "       'Oct-2006', 'May-2000', 'Dec-1998', 'Dec-2004', 'Oct-2000',\n",
       "       'May-2002', 'May-2006', 'Jul-2002', 'Jul-2006', 'May-1997',\n",
       "       'Oct-2005', 'Apr-1995', 'Oct-2002', 'Jan-2000', 'Apr-2000',\n",
       "       'Dec-1994', 'Sep-2005', 'Dec-1984', 'Dec-1999', 'Nov-2003',\n",
       "       'Jun-1989', 'Jun-2003', 'Oct-1996', 'May-2003', 'Jun-2002',\n",
       "       'Jun-2007', 'Dec-1996', 'Feb-1984', 'Sep-2002', 'Jan-1986',\n",
       "       'May-1998', 'Jan-1997', 'Jun-2005', 'Feb-1990', 'Mar-2004',\n",
       "       'Jul-1995', 'Aug-1994', 'Jun-1992', 'Mar-1997', 'Apr-2006',\n",
       "       'Apr-1990', 'Aug-1999', 'Sep-2000', 'Feb-2001', 'Dec-1988',\n",
       "       'Feb-1999', 'Dec-1991', 'Aug-2000', 'Oct-2004', 'Aug-2004',\n",
       "       'Feb-2005', 'Nov-2005', 'Nov-2000', 'May-2007', 'Jan-1991',\n",
       "       'Jun-2000', 'Aug-2006', 'Dec-2002', 'Jun-1993', 'Jun-2006',\n",
       "       'Feb-2004', 'Dec-1990', 'Mar-2000', 'Feb-1995', 'Jul-2001',\n",
       "       'Apr-2002', 'Sep-2006', 'May-1999', 'Aug-1998', 'Dec-2005',\n",
       "       'May-2004', 'Oct-2001', 'Jun-1983', 'Mar-1986', 'Apr-1980',\n",
       "       'Jul-2004', 'Jul-2008', 'May-1996', 'Jan-2004', 'Nov-2002',\n",
       "       'Aug-2002', 'Aug-2001', 'Mar-1991', 'Sep-1989', 'Sep-1994',\n",
       "       'Sep-2003', 'Sep-1999', 'Aug-2005', 'Dec-1986', 'Nov-1998',\n",
       "       'Feb-2006', 'May-1994', 'Nov-2007', 'Feb-1993', 'Nov-1991',\n",
       "       'May-2005', 'Dec-1973', 'May-2001', 'Mar-1990', 'Mar-1996',\n",
       "       'Oct-1979', 'Jun-1981', 'Mar-2001', 'Apr-2001', 'Jun-1999',\n",
       "       'Nov-1993', 'Jan-2006', 'Dec-1997', 'Nov-1994', 'Jul-1997',\n",
       "       'Oct-1991', 'Jun-1994', 'Mar-2006', 'Sep-1996', 'Apr-1991',\n",
       "       'Jul-1993', 'Jan-1995', 'Sep-1987', 'Mar-2003', 'Oct-1999',\n",
       "       'Jul-1996', 'Dec-2003', 'Aug-1988', 'Jan-1992', 'Mar-1998',\n",
       "       'Feb-2007', 'Aug-1982', 'Mar-1995', 'Dec-1992', 'Jul-1998',\n",
       "       'Jul-1989', 'May-1990', 'Jul-1994', 'Sep-2001', 'Mar-1984',\n",
       "       'Aug-2003', 'Nov-1999', 'Mar-2007', 'Mar-2008', 'Apr-1994',\n",
       "       'Jan-2005', 'Jul-1986', 'Aug-1990', 'May-1992', 'Jul-2000',\n",
       "       'Mar-1988', 'May-1983', 'Apr-1993', 'Jul-1978', 'Feb-2000',\n",
       "       'Dec-1981', 'Mar-1992', 'Jan-1981', 'Sep-1990', 'Jun-1998',\n",
       "       'May-1993', 'Nov-1996', 'Mar-2002', 'Jan-1988', 'Aug-1997',\n",
       "       'Aug-1987', 'Aug-2008', 'Oct-1994', 'Oct-1986', 'Feb-1994',\n",
       "       'Jun-1996', 'Feb-1998', 'Nov-2008', 'Apr-1998', 'Jul-1979',\n",
       "       'Jan-1993', 'May-1987', 'Jul-1971', 'Aug-2007', 'Jun-1997',\n",
       "       'Mar-1980', 'Dec-2006', 'Jul-2007', 'Oct-1995', 'Jul-1991',\n",
       "       'Jul-1992', 'Dec-1972', 'Dec-1993', 'Jan-1999', 'Feb-2003',\n",
       "       'Apr-1997', 'Dec-1995', 'Apr-1996', 'Jul-1990', 'Mar-1970',\n",
       "       'Nov-1984', 'Apr-1984', 'Jul-1984', 'Aug-1995', 'Mar-1999',\n",
       "       'Sep-1988', 'Mar-1989', 'Mar-1987', 'Oct-1997', 'Dec-1980',\n",
       "       'Jan-1994', 'Sep-1995', 'Mar-2005', 'Jan-1989', 'Feb-1992',\n",
       "       'Jan-1990', 'Nov-1990', 'Mar-1969', 'Jun-1975', 'Mar-1985',\n",
       "       'Dec-2007', 'Oct-1993', 'Dec-1989', 'Sep-1980', 'Jun-1988',\n",
       "       'May-1978', 'Apr-1973', 'Aug-1989', 'Oct-1990', 'Sep-1991',\n",
       "       'Feb-1982', 'Feb-1987', 'Nov-1985', 'Jan-1984', 'Jul-1988',\n",
       "       'May-2008', 'Oct-1985', 'Mar-1983', 'Aug-1991', 'Sep-1986',\n",
       "       'Jun-1990', 'Feb-1986', 'Sep-1997', 'Jun-1984', 'Sep-1981',\n",
       "       'Apr-1986', 'Aug-1979', 'Aug-1980', 'Nov-1992', 'Sep-1993',\n",
       "       'Jun-1987', 'Sep-1982', 'Aug-1992', 'Aug-1985', 'Jul-1983',\n",
       "       'Jun-1991', 'Dec-1983', 'Jan-1987', 'Nov-1978', 'Oct-1984',\n",
       "       'Aug-1996', 'Nov-1989', 'Sep-1976', 'Nov-1986', 'Oct-1987',\n",
       "       'Sep-2008', 'May-1977', 'May-1986', 'Mar-1981', 'Jan-1983',\n",
       "       'Nov-1976', 'Sep-1979', 'Oct-1983', 'Sep-1962', 'Jun-1985',\n",
       "       'May-1982', 'Feb-1988', 'Oct-1992', 'Aug-1983', 'Jun-1973',\n",
       "       'Apr-1985', 'Oct-1988', 'Oct-1981', 'Sep-1968', 'Jul-1974',\n",
       "       'Nov-1987', 'May-1995', 'Feb-1991', 'Nov-1988', 'Mar-1993',\n",
       "       'Jun-2008', 'Jul-1980', 'Dec-1982', 'Mar-1975', 'Feb-1980',\n",
       "       'Apr-1988', 'Dec-1979', 'Sep-1985', 'Sep-1971', 'Mar-1978',\n",
       "       'Feb-2008', 'Aug-1978', 'Nov-1970', 'Jun-1979', 'Jun-1980',\n",
       "       'Apr-1989', 'Sep-1983', 'Feb-1989', 'Nov-1983', 'Jun-1986',\n",
       "       'Oct-1982', 'Aug-1986', 'Oct-1980', 'May-1988', 'Dec-1985',\n",
       "       'Jan-1982', 'Sep-1977', 'Dec-1976', 'Apr-1982', 'May-1984',\n",
       "       'Apr-2008', 'Feb-1979', 'Jan-2008', 'Sep-1964', 'Jul-1987',\n",
       "       'Jan-1978', 'May-1989', 'Oct-1977', 'Dec-1975', 'Feb-1985',\n",
       "       'Oct-2008', 'Nov-1982', 'May-1975', 'May-1985', 'Feb-1971',\n",
       "       'Jun-1977', 'Apr-1981', 'May-1979', 'Jan-1972', 'Sep-1967',\n",
       "       'Apr-1978', 'Feb-1965', 'Apr-1983', 'Nov-1975', 'Jun-1967',\n",
       "       'Mar-1974', 'Jul-1972', 'Aug-1967', 'Apr-1971', 'Sep-1984',\n",
       "       'May-1981', 'Dec-1970', 'Oct-1973', 'Jan-1971', 'Dec-1963',\n",
       "       'Apr-1974', 'Jan-1980', 'Aug-1969', 'Apr-1975', 'Jul-1977',\n",
       "       'Mar-1977', 'Nov-1969', 'Jan-1976', 'Mar-1982', 'Apr-1987',\n",
       "       'Dec-1969', 'May-1974', 'Aug-1974', 'Jun-1972', 'Mar-1963',\n",
       "       'Nov-1979', 'Aug-1975', 'Sep-1974', 'Aug-1981', 'May-1973',\n",
       "       'Sep-1973', 'Mar-1973', 'Dec-1977', 'Oct-1976', 'Jan-1974',\n",
       "       'Jan-1970', 'Aug-1968', 'Feb-1976', 'Jan-1975', 'Oct-1972',\n",
       "       'Dec-1974', 'Feb-1973', 'Nov-1965', 'Mar-1972', 'Jun-1982',\n",
       "       'Jun-1974', 'May-1965', 'Jun-1971', 'Oct-1970', 'Apr-1976',\n",
       "       'Oct-1971', 'Apr-1977', 'Sep-1978', 'Oct-1978', 'Oct-1954',\n",
       "       'Feb-1981', 'Jan-1977', 'Aug-1977', 'Dec-1978', 'Aug-1976',\n",
       "       'Jun-1968', 'Jun-1978', 'Jun-1969', 'May-1980', 'Jan-1979',\n",
       "       'Oct-1965', 'Nov-1974', 'Apr-1966', 'Jun-1976', 'Feb-1972',\n",
       "       'May-1976', 'Mar-1968', 'Mar-1976', 'Jul-1970', 'Mar-1979',\n",
       "       'Jul-1976', 'Jul-1982', 'Sep-1965', 'Apr-1967', 'Oct-1963',\n",
       "       'Feb-1970', 'Jul-1973', 'Feb-1978', 'Nov-1971', 'Aug-1972',\n",
       "       'Jul-1975', 'Sep-1970', 'Jul-1981', 'Oct-1964', 'Sep-1972',\n",
       "       'May-1970', 'May-1963', 'Feb-1969', 'Nov-1980', 'Jul-1967',\n",
       "       'Apr-1970', 'Nov-1977', 'Nov-1966', 'May-1971', 'Apr-1979',\n",
       "       'May-1972', 'Feb-1968', 'Jul-1964', 'Nov-1967', 'Apr-1964',\n",
       "       'Feb-1975', 'Jun-1959', 'Sep-1956', 'Jun-1966', 'Jan-1946',\n",
       "       'Mar-1966', 'Jan-1963', 'Dec-1950', 'Jul-1969', 'Jan-1968',\n",
       "       'Nov-1973', 'Jun-1970', 'Feb-1977', 'Feb-1974', 'Jan-1973',\n",
       "       'Feb-1966', 'Dec-1961', 'Aug-1973', 'Aug-1970', 'Sep-1969',\n",
       "       'Sep-1975', 'Dec-1968', 'Nov-1954', 'Oct-1969', 'Dec-1965',\n",
       "       'Apr-1972', 'Nov-1972', 'Sep-1963', 'Apr-1969', 'Nov-1962',\n",
       "       'Oct-1967', 'May-1967', 'Nov-1961', 'Feb-1967', 'Nov-1968',\n",
       "       'Oct-1975', 'Mar-1971', 'Aug-1971', 'Dec-1966', 'Oct-1968',\n",
       "       'Oct-1974', None, 'Nov-1963', 'Apr-1968', 'May-1969', 'Nov-1959',\n",
       "       'Oct-2010', 'Dec-2009', 'Nov-2010', 'Jan-2010', 'Dec-2008',\n",
       "       'Sep-2009', 'Jul-2010', 'Jan-2009', 'May-2009', 'May-2010',\n",
       "       'Sep-2010', 'Apr-2009', 'Nov-2009', 'Apr-2010', 'Mar-2009',\n",
       "       'Feb-2009', 'Aug-2009', 'Oct-2009', 'Jun-2009', 'Jun-2010',\n",
       "       'Jul-2009', 'Feb-2010', 'Mar-2010', 'Aug-2010', 'Jan-1961',\n",
       "       'Oct-1962', 'Jun-1964', 'Apr-1962', 'Jan-1960', 'Sep-1966',\n",
       "       'Mar-1965', 'May-1968', 'Jul-1966', 'Dec-1956', 'Dec-1971',\n",
       "       'Apr-1965', 'Jan-1964', 'Jul-1965', 'Jan-1965', 'Jan-1962',\n",
       "       'Aug-1964', 'Jan-1969', 'Oct-1966', 'Jun-1962', 'Dec-1967',\n",
       "       'Oct-1960', 'Jul-1962', 'Dec-1960', 'Jul-1960', 'Jun-1965',\n",
       "       'May-1966', 'Oct-1957', 'Aug-1965', 'May-1960', 'Jan-1967',\n",
       "       'Nov-1953', 'Oct-1959', 'Jun-1963', 'Mar-1967', 'Jul-1963',\n",
       "       'Nov-1960', 'Mar-1962', 'Mar-1964', 'Jul-1968', 'Feb-1963',\n",
       "       'Jan-1966', 'Dec-1964', 'May-1964', 'Oct-1961', 'Aug-1960',\n",
       "       'Mar-1960', 'Apr-1955', 'Sep-1959', 'Aug-1966', 'Jul-1955',\n",
       "       'Aug-1961', 'Nov-1964', 'May-1953', 'Nov-1950', 'Nov-1955',\n",
       "       'Mar-1961', 'Feb-1957', 'Aug-1963', 'Feb-1960', 'Sep-1960',\n",
       "       'Feb-1964', 'Dec-1951', 'Nov-1958', 'Aug-1962', 'Oct-1958',\n",
       "       'May-1962', 'Mar-2011', 'Jun-2011', 'Dec-2010', 'Oct-2011',\n",
       "       'Sep-2011', 'Jul-2011', 'Apr-2011', 'May-2011', 'Jan-2011',\n",
       "       'Feb-2011', 'Aug-2011', 'Apr-1963', 'Nov-2011', 'Dec-1958',\n",
       "       'Jan-1958', 'Jul-1959', 'Jan-1955', 'May-1959', 'Aug-1946',\n",
       "       'Apr-1961', 'Jun-1958', 'Jul-1958', 'Jun-1960', 'Jan-1951',\n",
       "       'Dec-1962', 'Mar-1959', 'Aug-1958', 'Jan-1959', 'Feb-1961',\n",
       "       'Sep-1957', 'Jun-1949', 'Jun-1961', 'Jan-1956', 'Jan-1954',\n",
       "       'Jan-1957', 'Jan-1944', 'Oct-1950', 'Jan-1948', 'Jul-1961',\n",
       "       'May-1958', 'Jan-1953', 'May-1950', 'Nov-1956', 'Feb-2012',\n",
       "       'May-2012', 'Mar-2012', 'Dec-2011', 'Apr-2012', 'Nov-2012',\n",
       "       'Jul-2012', 'Aug-2012', 'Jun-2012', 'Oct-2012', 'Jan-2012',\n",
       "       'Sep-2012', 'May-1961', 'Feb-1959', 'Jan-1950', 'Sep-1961',\n",
       "       'Jun-1955', 'Sep-1953', 'Aug-1959', 'Mar-1958', 'Dec-1959',\n",
       "       'Apr-1960', 'Nov-1957', 'May-1955', 'Aug-1951', 'Jun-1957',\n",
       "       'May-1957', 'Jan-1952', 'Mar-1955', 'Jul-1951', 'Aug-1950',\n",
       "       'Aug-1955', 'Apr-1958'], dtype=object)"
      ]
     },
     "execution_count": 15,
     "metadata": {},
     "output_type": "execute_result"
    }
   ],
   "source": [
    "loandf.earliest_cr_line.unique()"
   ]
  },
  {
   "cell_type": "code",
   "execution_count": 8,
   "metadata": {
    "collapsed": false
   },
   "outputs": [],
   "source": [
    "loandf['early_cred_ym'] = pd.to_datetime(loandf.earliest_cr_line)"
   ]
  },
  {
   "cell_type": "code",
   "execution_count": 11,
   "metadata": {
    "collapsed": false
   },
   "outputs": [
    {
     "data": {
      "text/plain": [
       "0   1985-01-01\n",
       "1   1999-04-01\n",
       "2   2001-11-01\n",
       "3   1996-02-01\n",
       "4   1996-01-01\n",
       "5   2004-11-01\n",
       "6   2005-07-01\n",
       "7   2007-01-01\n",
       "8   2004-04-01\n",
       "9   2004-09-01\n",
       "Name: early_cred_ym, dtype: datetime64[ns]"
      ]
     },
     "execution_count": 11,
     "metadata": {},
     "output_type": "execute_result"
    }
   ],
   "source": [
    "loandf.early_cred_ym.head(10)"
   ]
  },
  {
   "cell_type": "code",
   "execution_count": null,
   "metadata": {
    "collapsed": false
   },
   "outputs": [],
   "source": [
    "loandf['e_cred_ym'] = [x.to_period('M') for x in loandf['early_cred_ym'].dropna()]"
   ]
  },
  {
   "cell_type": "code",
   "execution_count": null,
   "metadata": {
    "collapsed": true
   },
   "outputs": [],
   "source": [
    "loandf.columns"
   ]
  },
  {
   "cell_type": "code",
   "execution_count": null,
   "metadata": {
    "collapsed": false
   },
   "outputs": [],
   "source": [
    "loandf.delin"
   ]
  },
  {
   "cell_type": "code",
   "execution_count": null,
   "metadata": {
    "collapsed": true
   },
   "outputs": [],
   "source": []
  },
  {
   "cell_type": "code",
   "execution_count": null,
   "metadata": {
    "collapsed": true
   },
   "outputs": [],
   "source": []
  },
  {
   "cell_type": "code",
   "execution_count": null,
   "metadata": {
    "collapsed": true
   },
   "outputs": [],
   "source": []
  },
  {
   "cell_type": "code",
   "execution_count": null,
   "metadata": {
    "collapsed": true
   },
   "outputs": [],
   "source": []
  },
  {
   "cell_type": "code",
   "execution_count": null,
   "metadata": {
    "collapsed": true
   },
   "outputs": [],
   "source": []
  },
  {
   "cell_type": "code",
   "execution_count": null,
   "metadata": {
    "collapsed": true
   },
   "outputs": [],
   "source": []
  },
  {
   "cell_type": "code",
   "execution_count": null,
   "metadata": {
    "collapsed": true
   },
   "outputs": [],
   "source": []
  },
  {
   "cell_type": "code",
   "execution_count": null,
   "metadata": {
    "collapsed": true
   },
   "outputs": [],
   "source": []
  },
  {
   "cell_type": "code",
   "execution_count": null,
   "metadata": {
    "collapsed": true
   },
   "outputs": [],
   "source": []
  },
  {
   "cell_type": "code",
   "execution_count": null,
   "metadata": {
    "collapsed": true
   },
   "outputs": [],
   "source": []
  },
  {
   "cell_type": "code",
   "execution_count": null,
   "metadata": {
    "collapsed": true
   },
   "outputs": [],
   "source": []
  },
  {
   "cell_type": "code",
   "execution_count": null,
   "metadata": {
    "collapsed": true
   },
   "outputs": [],
   "source": []
  },
  {
   "cell_type": "code",
   "execution_count": null,
   "metadata": {
    "collapsed": true
   },
   "outputs": [],
   "source": []
  },
  {
   "cell_type": "code",
   "execution_count": null,
   "metadata": {
    "collapsed": true
   },
   "outputs": [],
   "source": []
  },
  {
   "cell_type": "code",
   "execution_count": null,
   "metadata": {
    "collapsed": true
   },
   "outputs": [],
   "source": []
  },
  {
   "cell_type": "code",
   "execution_count": null,
   "metadata": {
    "collapsed": true
   },
   "outputs": [],
   "source": []
  },
  {
   "cell_type": "code",
   "execution_count": null,
   "metadata": {
    "collapsed": true
   },
   "outputs": [],
   "source": []
  }
 ],
 "metadata": {
  "kernelspec": {
   "display_name": "Python 3",
   "language": "python",
   "name": "python3"
  },
  "language_info": {
   "codemirror_mode": {
    "name": "ipython",
    "version": 3
   },
   "file_extension": ".py",
   "mimetype": "text/x-python",
   "name": "python",
   "nbconvert_exporter": "python",
   "pygments_lexer": "ipython3",
   "version": "3.6.0"
  }
 },
 "nbformat": 4,
 "nbformat_minor": 2
}
