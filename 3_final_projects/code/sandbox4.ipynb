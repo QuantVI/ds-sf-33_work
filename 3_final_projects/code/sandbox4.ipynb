{
 "cells": [
  {
   "cell_type": "markdown",
   "metadata": {},
   "source": []
  },
  {
   "cell_type": "markdown",
   "metadata": {},
   "source": [
    "## Imports"
   ]
  },
  {
   "cell_type": "code",
   "execution_count": 4,
   "metadata": {
    "collapsed": true
   },
   "outputs": [],
   "source": [
    "import os\n",
    "import pandas as pd\n",
    "# import matplotlib\n",
    "import matplotlib.pyplot as plt\n",
    "get_ipython().magic(u'matplotlib inline')\n",
    "import sqlite3\n",
    "import seaborn as sns\n",
    "from sklearn import tree"
   ]
  },
  {
   "cell_type": "markdown",
   "metadata": {},
   "source": [
    "### Column Descriptions"
   ]
  },
  {
   "cell_type": "code",
   "execution_count": 5,
   "metadata": {
    "collapsed": false
   },
   "outputs": [],
   "source": [
    "data_dictionary = pd.read_excel(\"../assets/lending-club-loan-data/LCDataDictionary.xlsx\")\n",
    "# data_dictionary"
   ]
  },
  {
   "cell_type": "code",
   "execution_count": 6,
   "metadata": {
    "collapsed": false
   },
   "outputs": [
    {
     "data": {
      "text/html": [
       "<div>\n",
       "<table border=\"1\" class=\"dataframe\">\n",
       "  <thead>\n",
       "    <tr style=\"text-align: right;\">\n",
       "      <th></th>\n",
       "      <th>LoanStatNew</th>\n",
       "      <th>Description</th>\n",
       "    </tr>\n",
       "  </thead>\n",
       "  <tbody>\n",
       "    <tr>\n",
       "      <th>75</th>\n",
       "      <td>acc_now_delinq</td>\n",
       "      <td>The number of accounts on which the borrower is now delinquent.</td>\n",
       "    </tr>\n",
       "    <tr>\n",
       "      <th>0</th>\n",
       "      <td>addr_state</td>\n",
       "      <td>The state provided by the borrower in the loan application</td>\n",
       "    </tr>\n",
       "    <tr>\n",
       "      <th>70</th>\n",
       "      <td>all_util</td>\n",
       "      <td>Balance to credit limit on all trades</td>\n",
       "    </tr>\n",
       "    <tr>\n",
       "      <th>1</th>\n",
       "      <td>annual_inc</td>\n",
       "      <td>The self-reported annual income provided by the borrower during registration.</td>\n",
       "    </tr>\n",
       "    <tr>\n",
       "      <th>2</th>\n",
       "      <td>annual_inc_joint</td>\n",
       "      <td>The combined self-reported annual income provided by the co-borrowers during registration</td>\n",
       "    </tr>\n",
       "    <tr>\n",
       "      <th>3</th>\n",
       "      <td>application_type</td>\n",
       "      <td>Indicates whether the loan is an individual application or a joint application with two co-borrowers</td>\n",
       "    </tr>\n",
       "    <tr>\n",
       "      <th>4</th>\n",
       "      <td>collection_recovery_fee</td>\n",
       "      <td>post charge off collection fee</td>\n",
       "    </tr>\n",
       "    <tr>\n",
       "      <th>5</th>\n",
       "      <td>collections_12_mths_ex_med</td>\n",
       "      <td>Number of collections in 12 months excluding medical collections</td>\n",
       "    </tr>\n",
       "    <tr>\n",
       "      <th>6</th>\n",
       "      <td>delinq_2yrs</td>\n",
       "      <td>The number of 30+ days past-due incidences of delinquency in the borrower's credit file for the past 2 years</td>\n",
       "    </tr>\n",
       "    <tr>\n",
       "      <th>7</th>\n",
       "      <td>desc</td>\n",
       "      <td>Loan description provided by the borrower</td>\n",
       "    </tr>\n",
       "    <tr>\n",
       "      <th>8</th>\n",
       "      <td>dti</td>\n",
       "      <td>A ratio calculated using the borrower’s total monthly debt payments on the total debt obligations, excluding mortgage and the requested LC loan, divided by the borrower’s self-reported monthly income.</td>\n",
       "    </tr>\n",
       "    <tr>\n",
       "      <th>9</th>\n",
       "      <td>dti_joint</td>\n",
       "      <td>A ratio calculated using the co-borrowers' total monthly payments on the total debt obligations, excluding mortgages and the requested LC loan, divided by the co-borrowers' combined self-reported monthly income</td>\n",
       "    </tr>\n",
       "    <tr>\n",
       "      <th>10</th>\n",
       "      <td>earliest_cr_line</td>\n",
       "      <td>The month the borrower's earliest reported credit line was opened</td>\n",
       "    </tr>\n",
       "    <tr>\n",
       "      <th>11</th>\n",
       "      <td>emp_length</td>\n",
       "      <td>Employment length in years. Possible values are between 0 and 10 where 0 means less than one year and 10 means ten or more years.</td>\n",
       "    </tr>\n",
       "    <tr>\n",
       "      <th>12</th>\n",
       "      <td>emp_title</td>\n",
       "      <td>The job title supplied by the Borrower when applying for the loan.*</td>\n",
       "    </tr>\n",
       "    <tr>\n",
       "      <th>13</th>\n",
       "      <td>fico_range_high</td>\n",
       "      <td>The upper boundary range the borrower’s FICO at loan origination belongs to.</td>\n",
       "    </tr>\n",
       "    <tr>\n",
       "      <th>14</th>\n",
       "      <td>fico_range_low</td>\n",
       "      <td>The lower boundary range the borrower’s FICO at loan origination belongs to.</td>\n",
       "    </tr>\n",
       "    <tr>\n",
       "      <th>15</th>\n",
       "      <td>funded_amnt</td>\n",
       "      <td>The total amount committed to that loan at that point in time.</td>\n",
       "    </tr>\n",
       "    <tr>\n",
       "      <th>16</th>\n",
       "      <td>funded_amnt_inv</td>\n",
       "      <td>The total amount committed by investors for that loan at that point in time.</td>\n",
       "    </tr>\n",
       "    <tr>\n",
       "      <th>17</th>\n",
       "      <td>grade</td>\n",
       "      <td>LC assigned loan grade</td>\n",
       "    </tr>\n",
       "    <tr>\n",
       "      <th>18</th>\n",
       "      <td>home_ownership</td>\n",
       "      <td>The home ownership status provided by the borrower during registration. Our values are: RENT, OWN, MORTGAGE, OTHER.</td>\n",
       "    </tr>\n",
       "    <tr>\n",
       "      <th>19</th>\n",
       "      <td>id</td>\n",
       "      <td>A unique LC assigned ID for the loan listing.</td>\n",
       "    </tr>\n",
       "    <tr>\n",
       "      <th>66</th>\n",
       "      <td>il_util</td>\n",
       "      <td>Ratio of total current balance to high credit/credit limit on all install acct</td>\n",
       "    </tr>\n",
       "    <tr>\n",
       "      <th>20</th>\n",
       "      <td>initial_list_status</td>\n",
       "      <td>The initial listing status of the loan. Possible values are – W, F</td>\n",
       "    </tr>\n",
       "    <tr>\n",
       "      <th>72</th>\n",
       "      <td>inq_fi</td>\n",
       "      <td>Number of personal finance inquiries</td>\n",
       "    </tr>\n",
       "    <tr>\n",
       "      <th>74</th>\n",
       "      <td>inq_last_12m</td>\n",
       "      <td>Number of credit inquiries in past 12 months</td>\n",
       "    </tr>\n",
       "    <tr>\n",
       "      <th>21</th>\n",
       "      <td>inq_last_6mths</td>\n",
       "      <td>The number of inquiries in past 6 months (excluding auto and mortgage inquiries)</td>\n",
       "    </tr>\n",
       "    <tr>\n",
       "      <th>22</th>\n",
       "      <td>installment</td>\n",
       "      <td>The monthly payment owed by the borrower if the loan originates.</td>\n",
       "    </tr>\n",
       "    <tr>\n",
       "      <th>23</th>\n",
       "      <td>int_rate</td>\n",
       "      <td>Interest Rate on the loan</td>\n",
       "    </tr>\n",
       "    <tr>\n",
       "      <th>24</th>\n",
       "      <td>is_inc_v</td>\n",
       "      <td>Indicates if income was verified by LC, not verified, or if the income source was verified</td>\n",
       "    </tr>\n",
       "    <tr>\n",
       "      <th>25</th>\n",
       "      <td>issue_d</td>\n",
       "      <td>The month which the loan was funded</td>\n",
       "    </tr>\n",
       "    <tr>\n",
       "      <th>26</th>\n",
       "      <td>last_credit_pull_d</td>\n",
       "      <td>The most recent month LC pulled credit for this loan</td>\n",
       "    </tr>\n",
       "    <tr>\n",
       "      <th>27</th>\n",
       "      <td>last_fico_range_high</td>\n",
       "      <td>The upper boundary range the borrower’s last FICO pulled belongs to.</td>\n",
       "    </tr>\n",
       "    <tr>\n",
       "      <th>28</th>\n",
       "      <td>last_fico_range_low</td>\n",
       "      <td>The lower boundary range the borrower’s last FICO pulled belongs to.</td>\n",
       "    </tr>\n",
       "    <tr>\n",
       "      <th>29</th>\n",
       "      <td>last_pymnt_amnt</td>\n",
       "      <td>Last total payment amount received</td>\n",
       "    </tr>\n",
       "    <tr>\n",
       "      <th>30</th>\n",
       "      <td>last_pymnt_d</td>\n",
       "      <td>Last month payment was received</td>\n",
       "    </tr>\n",
       "    <tr>\n",
       "      <th>31</th>\n",
       "      <td>loan_amnt</td>\n",
       "      <td>The listed amount of the loan applied for by the borrower. If at some point in time, the credit department reduces the loan amount, then it will be reflected in this value.</td>\n",
       "    </tr>\n",
       "    <tr>\n",
       "      <th>32</th>\n",
       "      <td>loan_status</td>\n",
       "      <td>Current status of the loan</td>\n",
       "    </tr>\n",
       "    <tr>\n",
       "      <th>69</th>\n",
       "      <td>max_bal_bc</td>\n",
       "      <td>Maximum current balance owed on all revolving accounts</td>\n",
       "    </tr>\n",
       "    <tr>\n",
       "      <th>33</th>\n",
       "      <td>member_id</td>\n",
       "      <td>A unique LC assigned Id for the borrower member.</td>\n",
       "    </tr>\n",
       "    <tr>\n",
       "      <th>34</th>\n",
       "      <td>mths_since_last_delinq</td>\n",
       "      <td>The number of months since the borrower's last delinquency.</td>\n",
       "    </tr>\n",
       "    <tr>\n",
       "      <th>35</th>\n",
       "      <td>mths_since_last_major_derog</td>\n",
       "      <td>Months since most recent 90-day or worse rating</td>\n",
       "    </tr>\n",
       "    <tr>\n",
       "      <th>36</th>\n",
       "      <td>mths_since_last_record</td>\n",
       "      <td>The number of months since the last public record.</td>\n",
       "    </tr>\n",
       "    <tr>\n",
       "      <th>64</th>\n",
       "      <td>mths_since_rcnt_il</td>\n",
       "      <td>Months since most recent installment accounts opened</td>\n",
       "    </tr>\n",
       "    <tr>\n",
       "      <th>37</th>\n",
       "      <td>next_pymnt_d</td>\n",
       "      <td>Next scheduled payment date</td>\n",
       "    </tr>\n",
       "    <tr>\n",
       "      <th>38</th>\n",
       "      <td>open_acc</td>\n",
       "      <td>The number of open credit lines in the borrower's credit file.</td>\n",
       "    </tr>\n",
       "    <tr>\n",
       "      <th>60</th>\n",
       "      <td>open_acc_6m</td>\n",
       "      <td>Number of open trades in last 6 months</td>\n",
       "    </tr>\n",
       "    <tr>\n",
       "      <th>62</th>\n",
       "      <td>open_il_12m</td>\n",
       "      <td>Number of installment accounts opened in past 12 months</td>\n",
       "    </tr>\n",
       "    <tr>\n",
       "      <th>63</th>\n",
       "      <td>open_il_24m</td>\n",
       "      <td>Number of installment accounts opened in past 24 months</td>\n",
       "    </tr>\n",
       "    <tr>\n",
       "      <th>61</th>\n",
       "      <td>open_il_6m</td>\n",
       "      <td>Number of currently active installment trades</td>\n",
       "    </tr>\n",
       "    <tr>\n",
       "      <th>67</th>\n",
       "      <td>open_rv_12m</td>\n",
       "      <td>Number of revolving trades opened in past 12 months</td>\n",
       "    </tr>\n",
       "    <tr>\n",
       "      <th>68</th>\n",
       "      <td>open_rv_24m</td>\n",
       "      <td>Number of revolving trades opened in past 24 months</td>\n",
       "    </tr>\n",
       "    <tr>\n",
       "      <th>39</th>\n",
       "      <td>out_prncp</td>\n",
       "      <td>Remaining outstanding principal for total amount funded</td>\n",
       "    </tr>\n",
       "    <tr>\n",
       "      <th>40</th>\n",
       "      <td>out_prncp_inv</td>\n",
       "      <td>Remaining outstanding principal for portion of total amount funded by investors</td>\n",
       "    </tr>\n",
       "    <tr>\n",
       "      <th>41</th>\n",
       "      <td>policy_code</td>\n",
       "      <td>publicly available policy_code=1\\nnew products not publicly available policy_code=2</td>\n",
       "    </tr>\n",
       "    <tr>\n",
       "      <th>42</th>\n",
       "      <td>pub_rec</td>\n",
       "      <td>Number of derogatory public records</td>\n",
       "    </tr>\n",
       "    <tr>\n",
       "      <th>43</th>\n",
       "      <td>purpose</td>\n",
       "      <td>A category provided by the borrower for the loan request.</td>\n",
       "    </tr>\n",
       "    <tr>\n",
       "      <th>44</th>\n",
       "      <td>pymnt_plan</td>\n",
       "      <td>Indicates if a payment plan has been put in place for the loan</td>\n",
       "    </tr>\n",
       "    <tr>\n",
       "      <th>45</th>\n",
       "      <td>recoveries</td>\n",
       "      <td>post charge off gross recovery</td>\n",
       "    </tr>\n",
       "    <tr>\n",
       "      <th>46</th>\n",
       "      <td>revol_bal</td>\n",
       "      <td>Total credit revolving balance</td>\n",
       "    </tr>\n",
       "    <tr>\n",
       "      <th>47</th>\n",
       "      <td>revol_util</td>\n",
       "      <td>Revolving line utilization rate, or the amount of credit the borrower is using relative to all available revolving credit.</td>\n",
       "    </tr>\n",
       "    <tr>\n",
       "      <th>48</th>\n",
       "      <td>sub_grade</td>\n",
       "      <td>LC assigned loan subgrade</td>\n",
       "    </tr>\n",
       "    <tr>\n",
       "      <th>49</th>\n",
       "      <td>term</td>\n",
       "      <td>The number of payments on the loan. Values are in months and can be either 36 or 60.</td>\n",
       "    </tr>\n",
       "    <tr>\n",
       "      <th>50</th>\n",
       "      <td>title</td>\n",
       "      <td>The loan title provided by the borrower</td>\n",
       "    </tr>\n",
       "    <tr>\n",
       "      <th>76</th>\n",
       "      <td>tot_coll_amt</td>\n",
       "      <td>Total collection amounts ever owed</td>\n",
       "    </tr>\n",
       "    <tr>\n",
       "      <th>77</th>\n",
       "      <td>tot_cur_bal</td>\n",
       "      <td>Total current balance of all accounts</td>\n",
       "    </tr>\n",
       "    <tr>\n",
       "      <th>51</th>\n",
       "      <td>total_acc</td>\n",
       "      <td>The total number of credit lines currently in the borrower's credit file</td>\n",
       "    </tr>\n",
       "    <tr>\n",
       "      <th>65</th>\n",
       "      <td>total_bal_il</td>\n",
       "      <td>Total current balance of all installment accounts</td>\n",
       "    </tr>\n",
       "    <tr>\n",
       "      <th>73</th>\n",
       "      <td>total_cu_tl</td>\n",
       "      <td>Number of finance trades</td>\n",
       "    </tr>\n",
       "    <tr>\n",
       "      <th>52</th>\n",
       "      <td>total_pymnt</td>\n",
       "      <td>Payments received to date for total amount funded</td>\n",
       "    </tr>\n",
       "    <tr>\n",
       "      <th>53</th>\n",
       "      <td>total_pymnt_inv</td>\n",
       "      <td>Payments received to date for portion of total amount funded by investors</td>\n",
       "    </tr>\n",
       "    <tr>\n",
       "      <th>54</th>\n",
       "      <td>total_rec_int</td>\n",
       "      <td>Interest received to date</td>\n",
       "    </tr>\n",
       "    <tr>\n",
       "      <th>55</th>\n",
       "      <td>total_rec_late_fee</td>\n",
       "      <td>Late fees received to date</td>\n",
       "    </tr>\n",
       "    <tr>\n",
       "      <th>56</th>\n",
       "      <td>total_rec_prncp</td>\n",
       "      <td>Principal received to date</td>\n",
       "    </tr>\n",
       "    <tr>\n",
       "      <th>71</th>\n",
       "      <td>total_rev_hi_lim</td>\n",
       "      <td>Total revolving high credit/credit limit</td>\n",
       "    </tr>\n",
       "    <tr>\n",
       "      <th>57</th>\n",
       "      <td>url</td>\n",
       "      <td>URL for the LC page with listing data.</td>\n",
       "    </tr>\n",
       "    <tr>\n",
       "      <th>58</th>\n",
       "      <td>verified_status_joint</td>\n",
       "      <td>Indicates if the co-borrowers' joint income was verified by LC, not verified, or if the income source was verified</td>\n",
       "    </tr>\n",
       "    <tr>\n",
       "      <th>59</th>\n",
       "      <td>zip_code</td>\n",
       "      <td>The first 3 numbers of the zip code provided by the borrower in the loan application.</td>\n",
       "    </tr>\n",
       "    <tr>\n",
       "      <th>78</th>\n",
       "      <td>NaN</td>\n",
       "      <td>NaN</td>\n",
       "    </tr>\n",
       "    <tr>\n",
       "      <th>79</th>\n",
       "      <td>NaN</td>\n",
       "      <td>* Employer Title replaces Employer Name for all loans listed after 9/23/2013</td>\n",
       "    </tr>\n",
       "  </tbody>\n",
       "</table>\n",
       "</div>"
      ],
      "text/plain": [
       "                    LoanStatNew                                                                                                                                                                                                         Description\n",
       "75               acc_now_delinq                                                                                                                                                     The number of accounts on which the borrower is now delinquent.\n",
       "0                    addr_state                                                                                                                                                          The state provided by the borrower in the loan application\n",
       "70                     all_util                                                                                                                                                                               Balance to credit limit on all trades\n",
       "1                    annual_inc                                                                                                                                       The self-reported annual income provided by the borrower during registration.\n",
       "2              annual_inc_joint                                                                                                                           The combined self-reported annual income provided by the co-borrowers during registration\n",
       "3              application_type                                                                                                                Indicates whether the loan is an individual application or a joint application with two co-borrowers\n",
       "4       collection_recovery_fee                                                                                                                                                                                      post charge off collection fee\n",
       "5    collections_12_mths_ex_med                                                                                                                                                    Number of collections in 12 months excluding medical collections\n",
       "6                   delinq_2yrs                                                                                                        The number of 30+ days past-due incidences of delinquency in the borrower's credit file for the past 2 years\n",
       "7                          desc                                                                                                                                                                           Loan description provided by the borrower\n",
       "8                           dti            A ratio calculated using the borrower’s total monthly debt payments on the total debt obligations, excluding mortgage and the requested LC loan, divided by the borrower’s self-reported monthly income.\n",
       "9                     dti_joint  A ratio calculated using the co-borrowers' total monthly payments on the total debt obligations, excluding mortgages and the requested LC loan, divided by the co-borrowers' combined self-reported monthly income\n",
       "10             earliest_cr_line                                                                                                                                                   The month the borrower's earliest reported credit line was opened\n",
       "11                   emp_length                                                                                  Employment length in years. Possible values are between 0 and 10 where 0 means less than one year and 10 means ten or more years. \n",
       "12                    emp_title                                                                                                                                                 The job title supplied by the Borrower when applying for the loan.*\n",
       "13              fico_range_high                                                                                                                                        The upper boundary range the borrower’s FICO at loan origination belongs to.\n",
       "14               fico_range_low                                                                                                                                        The lower boundary range the borrower’s FICO at loan origination belongs to.\n",
       "15                  funded_amnt                                                                                                                                                      The total amount committed to that loan at that point in time.\n",
       "16              funded_amnt_inv                                                                                                                                        The total amount committed by investors for that loan at that point in time.\n",
       "17                        grade                                                                                                                                                                                              LC assigned loan grade\n",
       "18               home_ownership                                                                                                 The home ownership status provided by the borrower during registration. Our values are: RENT, OWN, MORTGAGE, OTHER.\n",
       "19                           id                                                                                                                                                                       A unique LC assigned ID for the loan listing.\n",
       "66                      il_util                                                                                                                                      Ratio of total current balance to high credit/credit limit on all install acct\n",
       "20          initial_list_status                                                                                                                                                  The initial listing status of the loan. Possible values are – W, F\n",
       "72                       inq_fi                                                                                                                                                                                Number of personal finance inquiries\n",
       "74                 inq_last_12m                                                                                                                                                                        Number of credit inquiries in past 12 months\n",
       "21               inq_last_6mths                                                                                                                                    The number of inquiries in past 6 months (excluding auto and mortgage inquiries)\n",
       "22                  installment                                                                                                                                                    The monthly payment owed by the borrower if the loan originates.\n",
       "23                     int_rate                                                                                                                                                                                           Interest Rate on the loan\n",
       "24                     is_inc_v                                                                                                                          Indicates if income was verified by LC, not verified, or if the income source was verified\n",
       "25                      issue_d                                                                                                                                                                                 The month which the loan was funded\n",
       "26           last_credit_pull_d                                                                                                                                                                The most recent month LC pulled credit for this loan\n",
       "27         last_fico_range_high                                                                                                                                                The upper boundary range the borrower’s last FICO pulled belongs to.\n",
       "28          last_fico_range_low                                                                                                                                                The lower boundary range the borrower’s last FICO pulled belongs to.\n",
       "29              last_pymnt_amnt                                                                                                                                                                                  Last total payment amount received\n",
       "30                 last_pymnt_d                                                                                                                                                                                     Last month payment was received\n",
       "31                    loan_amnt                                        The listed amount of the loan applied for by the borrower. If at some point in time, the credit department reduces the loan amount, then it will be reflected in this value.\n",
       "32                  loan_status                                                                                                                                                                                          Current status of the loan\n",
       "69                   max_bal_bc                                                                                                                                                              Maximum current balance owed on all revolving accounts\n",
       "33                    member_id                                                                                                                                                                    A unique LC assigned Id for the borrower member.\n",
       "34       mths_since_last_delinq                                                                                                                                                         The number of months since the borrower's last delinquency.\n",
       "35  mths_since_last_major_derog                                                                                                                                                                     Months since most recent 90-day or worse rating\n",
       "36       mths_since_last_record                                                                                                                                                                  The number of months since the last public record.\n",
       "64           mths_since_rcnt_il                                                                                                                                                                Months since most recent installment accounts opened\n",
       "37                 next_pymnt_d                                                                                                                                                                                         Next scheduled payment date\n",
       "38                     open_acc                                                                                                                                                      The number of open credit lines in the borrower's credit file.\n",
       "60                  open_acc_6m                                                                                                                                                                              Number of open trades in last 6 months\n",
       "62                  open_il_12m                                                                                                                                                             Number of installment accounts opened in past 12 months\n",
       "63                  open_il_24m                                                                                                                                                             Number of installment accounts opened in past 24 months\n",
       "61                   open_il_6m                                                                                                                                                                       Number of currently active installment trades\n",
       "67                  open_rv_12m                                                                                                                                                                 Number of revolving trades opened in past 12 months\n",
       "68                  open_rv_24m                                                                                                                                                                 Number of revolving trades opened in past 24 months\n",
       "39                    out_prncp                                                                                                                                                             Remaining outstanding principal for total amount funded\n",
       "40                out_prncp_inv                                                                                                                                     Remaining outstanding principal for portion of total amount funded by investors\n",
       "41                  policy_code                                                                                                                                 publicly available policy_code=1\\nnew products not publicly available policy_code=2\n",
       "42                      pub_rec                                                                                                                                                                                 Number of derogatory public records\n",
       "43                      purpose                                                                                                                                                          A category provided by the borrower for the loan request. \n",
       "44                   pymnt_plan                                                                                                                                                      Indicates if a payment plan has been put in place for the loan\n",
       "45                   recoveries                                                                                                                                                                                      post charge off gross recovery\n",
       "46                    revol_bal                                                                                                                                                                                      Total credit revolving balance\n",
       "47                   revol_util                                                                                          Revolving line utilization rate, or the amount of credit the borrower is using relative to all available revolving credit.\n",
       "48                    sub_grade                                                                                                                                                                                           LC assigned loan subgrade\n",
       "49                         term                                                                                                                                The number of payments on the loan. Values are in months and can be either 36 or 60.\n",
       "50                        title                                                                                                                                                                             The loan title provided by the borrower\n",
       "76                 tot_coll_amt                                                                                                                                                                                  Total collection amounts ever owed\n",
       "77                  tot_cur_bal                                                                                                                                                                               Total current balance of all accounts\n",
       "51                    total_acc                                                                                                                                            The total number of credit lines currently in the borrower's credit file\n",
       "65                 total_bal_il                                                                                                                                                                   Total current balance of all installment accounts\n",
       "73                  total_cu_tl                                                                                                                                                                                            Number of finance trades\n",
       "52                  total_pymnt                                                                                                                                                                   Payments received to date for total amount funded\n",
       "53              total_pymnt_inv                                                                                                                                           Payments received to date for portion of total amount funded by investors\n",
       "54                total_rec_int                                                                                                                                                                                           Interest received to date\n",
       "55           total_rec_late_fee                                                                                                                                                                                          Late fees received to date\n",
       "56              total_rec_prncp                                                                                                                                                                                          Principal received to date\n",
       "71           total_rev_hi_lim                                                                                                                                                                              Total revolving high credit/credit limit\n",
       "57                          url                                                                                                                                                                              URL for the LC page with listing data.\n",
       "58        verified_status_joint                                                                                                  Indicates if the co-borrowers' joint income was verified by LC, not verified, or if the income source was verified\n",
       "59                     zip_code                                                                                                                               The first 3 numbers of the zip code provided by the borrower in the loan application.\n",
       "78                          NaN                                                                                                                                                                                                                 NaN\n",
       "79                          NaN                                                                                                                                        * Employer Title replaces Employer Name for all loans listed after 9/23/2013"
      ]
     },
     "execution_count": 6,
     "metadata": {},
     "output_type": "execute_result"
    }
   ],
   "source": [
    "pd.set_option(\"display.width\",500)\n",
    "pd.set_option(\"max_colwidth\",500)\n",
    "pd.set_option(\"max_rows\",100)\n",
    "data_dictionary.sort_values('LoanStatNew')"
   ]
  },
  {
   "cell_type": "code",
   "execution_count": 7,
   "metadata": {
    "collapsed": true
   },
   "outputs": [],
   "source": [
    "pd.set_option(\"display.width\",200)\n",
    "pd.set_option(\"max_colwidth\",80)\n",
    "pd.set_option(\"max_rows\",80)"
   ]
  },
  {
   "cell_type": "code",
   "execution_count": 8,
   "metadata": {
    "collapsed": true
   },
   "outputs": [],
   "source": [
    "col_of_interest = [\n",
    "'annual_inc',  'delinq_2yrs',  'dti',\n",
    "'emp_length',  'grade',        'home_ownership',\n",
    "'installment', 'int_rate',     'loan_amnt',\n",
    "'loan_status', 'purpose',      'sub_grade',\n",
    "'term']"
   ]
  },
  {
   "cell_type": "code",
   "execution_count": 9,
   "metadata": {
    "collapsed": false
   },
   "outputs": [
    {
     "data": {
      "text/plain": [
       "'select annual_inc,delinq_2yrs,dti,emp_length,grade,home_ownership,installment,int_rate,loan_amnt,loan_status,purpose,sub_grade,term from loan;'"
      ]
     },
     "execution_count": 9,
     "metadata": {},
     "output_type": "execute_result"
    }
   ],
   "source": [
    "query_base = \"select {} from loan;\".format(','.join(col_of_interest))\n",
    "query_base"
   ]
  },
  {
   "cell_type": "markdown",
   "metadata": {},
   "source": [
    "https://www.healthcare.gov/glossary/federal-poverty-level-FPL/"
   ]
  },
  {
   "cell_type": "code",
   "execution_count": 10,
   "metadata": {
    "collapsed": true
   },
   "outputs": [],
   "source": [
    "query_full = \"\"\"\n",
    "select\n",
    "    round(loan.annual_inc/1000,0) * 1000 as rounded_annual_inc\n",
    "    ,round(loan.annual_inc/12060,0) as poverty_inc_mult\n",
    "    ,delinq_2yrs\n",
    "    ,case when dti < 1 then round(dti,1)\n",
    "          when dti < 10 then round(dti/10,1) * 10\n",
    "          when dti < 100 then round(dti/100,1) * 100\n",
    "          when dti >=100 then round(dti/1000,1) * 1000\n",
    "          else 0 end as dti\n",
    "    ,case when emp_length like '10%' then 10\n",
    "          when emp_length like '9%' then 9\n",
    "          when emp_length like '8%' then 8\n",
    "          when emp_length like '7%' then 7\n",
    "          when emp_length like '6%' then 6\n",
    "          when emp_length like '5%' then 5\n",
    "          when emp_length like '4%' then 4\n",
    "          when emp_length like '3%' then 3\n",
    "          when emp_length like '2%' then 2\n",
    "          when emp_length like '1 %' then 1\n",
    "          when emp_length = '< 1 year' then 1\n",
    "          else 0 end as emp_length_int\n",
    "    ,grade\n",
    "    ,home_ownership\n",
    "    ,installment\n",
    "    ,int_rate\n",
    "    ,loan_amnt\n",
    "    ,loan_status\n",
    "    ,purpose\n",
    "    ,sub_grade\n",
    "    ,case when term like '%36%' then 36\n",
    "          when term like '%60%' then 60\n",
    "          else 0 end as term\n",
    "    ,case when loan_status in ('Issued','Current','In Grace Period') then 'holdout'\n",
    "           when loan_status like '%Fully Paid' then 'good'\n",
    "           when loan_status in ('Charged Off','Default','Late (16-30 days)'\n",
    "           ,'Does not meet the credit policy. Status:Charged Off'\n",
    "           ,'Late (31-120 days)'\n",
    "           ) then 'bad'\n",
    "           else 'ignore' end as 'outcome_bucket_text'\n",
    "    ,case when loan_status in ('Issued','Current','In Grace Period') then -1\n",
    "           when loan_status like '%Fully Paid' then 1\n",
    "           when loan_status in ('Charged Off','Default','Late (16-30 days)'\n",
    "           ,'Does not meet the credit policy. Status:Charged Off'\n",
    "           ,'Late (31-120 days)'\n",
    "           ) then 0\n",
    "           else -1 end as 'label'\n",
    "\n",
    "from loan\n",
    "where annual_inc >= 0\n",
    "    and delinq_2yrs >= 0\n",
    "    and dti >= 0\n",
    "    and emp_length is not null\n",
    "    and grade is not null\n",
    "    and home_ownership is not null\n",
    "    and installment >= 0\n",
    "    and int_rate is not null\n",
    "    and loan_amnt >= 0\n",
    "    and loan_status is not null\n",
    "    and purpose is not null\n",
    "    and sub_grade is not null\n",
    "    and term is not null\n",
    ";\n",
    "\"\"\""
   ]
  },
  {
   "cell_type": "code",
   "execution_count": 11,
   "metadata": {
    "collapsed": false
   },
   "outputs": [],
   "source": [
    "_table_connection = sqlite3.connect('../assets/lending-club-loan-data/database.sqlite')\n",
    "loandf = pd.read_sql(query_full,_table_connection)\n",
    "_table_connection.close()"
   ]
  },
  {
   "cell_type": "code",
   "execution_count": 12,
   "metadata": {
    "collapsed": false
   },
   "outputs": [
    {
     "data": {
      "text/html": [
       "<div>\n",
       "<table border=\"1\" class=\"dataframe\">\n",
       "  <thead>\n",
       "    <tr style=\"text-align: right;\">\n",
       "      <th></th>\n",
       "      <th>rounded_annual_inc</th>\n",
       "      <th>poverty_inc_mult</th>\n",
       "      <th>delinq_2yrs</th>\n",
       "      <th>dti</th>\n",
       "      <th>emp_length_int</th>\n",
       "      <th>grade</th>\n",
       "      <th>home_ownership</th>\n",
       "      <th>installment</th>\n",
       "      <th>int_rate</th>\n",
       "      <th>loan_amnt</th>\n",
       "      <th>loan_status</th>\n",
       "      <th>purpose</th>\n",
       "      <th>sub_grade</th>\n",
       "      <th>term</th>\n",
       "      <th>outcome_bucket_text</th>\n",
       "      <th>label</th>\n",
       "    </tr>\n",
       "  </thead>\n",
       "  <tbody>\n",
       "    <tr>\n",
       "      <th>0</th>\n",
       "      <td>24000.0</td>\n",
       "      <td>2.0</td>\n",
       "      <td>0.0</td>\n",
       "      <td>30.0</td>\n",
       "      <td>10</td>\n",
       "      <td>B</td>\n",
       "      <td>RENT</td>\n",
       "      <td>162.87</td>\n",
       "      <td>10.65%</td>\n",
       "      <td>5000.0</td>\n",
       "      <td>Fully Paid</td>\n",
       "      <td>credit_card</td>\n",
       "      <td>B2</td>\n",
       "      <td>36</td>\n",
       "      <td>good</td>\n",
       "      <td>1</td>\n",
       "    </tr>\n",
       "    <tr>\n",
       "      <th>1</th>\n",
       "      <td>30000.0</td>\n",
       "      <td>2.0</td>\n",
       "      <td>0.0</td>\n",
       "      <td>1.0</td>\n",
       "      <td>1</td>\n",
       "      <td>C</td>\n",
       "      <td>RENT</td>\n",
       "      <td>59.83</td>\n",
       "      <td>15.27%</td>\n",
       "      <td>2500.0</td>\n",
       "      <td>Charged Off</td>\n",
       "      <td>car</td>\n",
       "      <td>C4</td>\n",
       "      <td>60</td>\n",
       "      <td>bad</td>\n",
       "      <td>0</td>\n",
       "    </tr>\n",
       "    <tr>\n",
       "      <th>2</th>\n",
       "      <td>12000.0</td>\n",
       "      <td>1.0</td>\n",
       "      <td>0.0</td>\n",
       "      <td>9.0</td>\n",
       "      <td>10</td>\n",
       "      <td>C</td>\n",
       "      <td>RENT</td>\n",
       "      <td>84.33</td>\n",
       "      <td>15.96%</td>\n",
       "      <td>2400.0</td>\n",
       "      <td>Fully Paid</td>\n",
       "      <td>small_business</td>\n",
       "      <td>C5</td>\n",
       "      <td>36</td>\n",
       "      <td>good</td>\n",
       "      <td>1</td>\n",
       "    </tr>\n",
       "    <tr>\n",
       "      <th>3</th>\n",
       "      <td>49000.0</td>\n",
       "      <td>4.0</td>\n",
       "      <td>0.0</td>\n",
       "      <td>20.0</td>\n",
       "      <td>10</td>\n",
       "      <td>C</td>\n",
       "      <td>RENT</td>\n",
       "      <td>339.31</td>\n",
       "      <td>13.49%</td>\n",
       "      <td>10000.0</td>\n",
       "      <td>Fully Paid</td>\n",
       "      <td>other</td>\n",
       "      <td>C1</td>\n",
       "      <td>36</td>\n",
       "      <td>good</td>\n",
       "      <td>1</td>\n",
       "    </tr>\n",
       "    <tr>\n",
       "      <th>4</th>\n",
       "      <td>80000.0</td>\n",
       "      <td>7.0</td>\n",
       "      <td>0.0</td>\n",
       "      <td>20.0</td>\n",
       "      <td>1</td>\n",
       "      <td>B</td>\n",
       "      <td>RENT</td>\n",
       "      <td>67.79</td>\n",
       "      <td>12.69%</td>\n",
       "      <td>3000.0</td>\n",
       "      <td>Current</td>\n",
       "      <td>other</td>\n",
       "      <td>B5</td>\n",
       "      <td>60</td>\n",
       "      <td>holdout</td>\n",
       "      <td>-1</td>\n",
       "    </tr>\n",
       "  </tbody>\n",
       "</table>\n",
       "</div>"
      ],
      "text/plain": [
       "   rounded_annual_inc  poverty_inc_mult  delinq_2yrs   dti  emp_length_int grade home_ownership  installment int_rate  loan_amnt  loan_status         purpose sub_grade  term outcome_bucket_text  \\\n",
       "0             24000.0               2.0          0.0  30.0              10     B           RENT       162.87   10.65%     5000.0   Fully Paid     credit_card        B2    36                good   \n",
       "1             30000.0               2.0          0.0   1.0               1     C           RENT        59.83   15.27%     2500.0  Charged Off             car        C4    60                 bad   \n",
       "2             12000.0               1.0          0.0   9.0              10     C           RENT        84.33   15.96%     2400.0   Fully Paid  small_business        C5    36                good   \n",
       "3             49000.0               4.0          0.0  20.0              10     C           RENT       339.31   13.49%    10000.0   Fully Paid           other        C1    36                good   \n",
       "4             80000.0               7.0          0.0  20.0               1     B           RENT        67.79   12.69%     3000.0      Current           other        B5    60             holdout   \n",
       "\n",
       "   label  \n",
       "0      1  \n",
       "1      0  \n",
       "2      1  \n",
       "3      1  \n",
       "4     -1  "
      ]
     },
     "execution_count": 12,
     "metadata": {},
     "output_type": "execute_result"
    }
   ],
   "source": [
    "loandf.head()"
   ]
  },
  {
   "cell_type": "code",
   "execution_count": 13,
   "metadata": {
    "collapsed": true
   },
   "outputs": [],
   "source": [
    "loandf['int_rate'] = loandf.int_rate.str.strip()\n",
    "loandf['interest_rate'] = loandf.int_rate.str.strip('%')\n",
    "loandf.interest_rate = pd.to_numeric(loandf['interest_rate'])"
   ]
  },
  {
   "cell_type": "code",
   "execution_count": 14,
   "metadata": {
    "collapsed": true
   },
   "outputs": [],
   "source": [
    "loandf['log_ann_inc'] = loandf.rounded_annual_inc.apply(pd.np.log)"
   ]
  },
  {
   "cell_type": "code",
   "execution_count": 15,
   "metadata": {
    "collapsed": false
   },
   "outputs": [
    {
     "data": {
      "text/plain": [
       "array([  0.,   2.,   3.,   1.,   4.,   6.,   5.,   8.,   7.,   9.,  11.,\n",
       "        13.,  15.,  10.,  12.,  17.,  18.,  29.,  24.,  14.,  21.,  22.,\n",
       "        19.,  16.,  30.,  26.,  20.,  27.,  39.])"
      ]
     },
     "execution_count": 15,
     "metadata": {},
     "output_type": "execute_result"
    }
   ],
   "source": [
    "loandf.delinq_2yrs.unique()"
   ]
  },
  {
   "cell_type": "code",
   "execution_count": 16,
   "metadata": {
    "collapsed": false
   },
   "outputs": [
    {
     "data": {
      "text/plain": [
       "(887353, 18)"
      ]
     },
     "execution_count": 16,
     "metadata": {},
     "output_type": "execute_result"
    }
   ],
   "source": [
    "loandf.shape"
   ]
  },
  {
   "cell_type": "markdown",
   "metadata": {
    "collapsed": true
   },
   "source": [
    "###### loandf.delinq_2yrs.replace(to_replace=pd.np.nan,value=0, inplace=True)"
   ]
  },
  {
   "cell_type": "markdown",
   "metadata": {},
   "source": [
    "print(loandf.emp_length.unique())  \n",
    "print(loandf.home_ownership.unique())\n",
    "\n",
    "['10+ years' '< 1 year' '1 year' '3 years' '8 years' '9 years' '4 years'\n",
    " '5 years' '6 years' '2 years' '7 years' 'n/a' None]  \n",
    "['RENT' 'OWN' 'MORTGAGE' 'OTHER' 'NONE' None 'ANY']"
   ]
  },
  {
   "cell_type": "markdown",
   "metadata": {},
   "source": [
    "col_0\tcount  \n",
    "loan_status\t \n",
    "\n",
    "*can use for holdout dataset: 14713+601781=616494*  \n",
    "Issued\t8460  \n",
    "Current\t601781  \n",
    "In Grace Period\t6253  \n",
    "\n",
    "*outcome we want: 209712*  \n",
    "Does not meet the credit policy. Status:Fully Paid\t1988  \n",
    "Fully Paid\t207724  \n",
    "\n",
    "*outcome we don't want: 61176*  \n",
    "**Charged Off\t45248**  \n",
    "**Default\t1219**  \n",
    "**Does not meet the credit policy. Status:Charged Off\t761**  \n",
    "**Late (16-30 days)\t2357**  \n",
    "**Late (31-120 days)\t11591**  "
   ]
  },
  {
   "cell_type": "code",
   "execution_count": 23,
   "metadata": {
    "collapsed": false
   },
   "outputs": [
    {
     "data": {
      "text/plain": [
       "<matplotlib.axes._subplots.AxesSubplot at 0x11b93c780>"
      ]
     },
     "execution_count": 23,
     "metadata": {},
     "output_type": "execute_result"
    },
    {
     "data": {
      "image/png": "[encoded data removed]",
      "text/plain": [
       "<matplotlib.figure.Figure at 0x11b93f4e0>"
      ]
     },
     "metadata": {},
     "output_type": "display_data"
    }
   ],
   "source": [
    "loandf[loandf['label']>=0].boxplot(column='loan_amnt', by ='label',rot=90, figsize=(8,5) , fontsize=14)"
   ]
  },
  {
   "cell_type": "code",
   "execution_count": 37,
   "metadata": {
    "collapsed": false
   },
   "outputs": [
    {
     "data": {
      "image/png": "[encoded data removed]",
      "text/plain": [
       "<matplotlib.figure.Figure at 0x11aee38d0>"
      ]
     },
     "metadata": {},
     "output_type": "display_data"
    }
   ],
   "source": [
    "# rounded_annual_inc\n",
    "# loandf[loandf['label']>=0].boxplot(column='rounded_annual_inc', by ='label',rot=90, figsize=(8,4) , fontsize=14)\n",
    "\n",
    "sc1 = plt.scatter(loandf.label, loandf.rounded_annual_inc)\n",
    "sc1ax = plt.gca()\n",
    "sc1ax.axis([-0.4,1.4,1e4,1e6])\n",
    "plt.show()"
   ]
  },
  {
   "cell_type": "code",
   "execution_count": 40,
   "metadata": {
    "collapsed": false
   },
   "outputs": [
    {
     "data": {
      "text/plain": [
       "<matplotlib.axes._subplots.AxesSubplot at 0x118a74940>"
      ]
     },
     "execution_count": 40,
     "metadata": {},
     "output_type": "execute_result"
    },
    {
     "data": {
      "image/png": "[encoded data removed]",
      "text/plain": [
       "<matplotlib.figure.Figure at 0x118a6a400>"
      ]
     },
     "metadata": {},
     "output_type": "display_data"
    }
   ],
   "source": [
    "loandf[loandf['label']>=0].boxplot(column='poverty_inc_mult', by ='grade',rot=90, figsize=(8,5) , fontsize=14)"
   ]
  },
  {
   "cell_type": "code",
   "execution_count": null,
   "metadata": {
    "collapsed": true
   },
   "outputs": [],
   "source": []
  },
  {
   "cell_type": "code",
   "execution_count": null,
   "metadata": {
    "collapsed": true
   },
   "outputs": [],
   "source": []
  },
  {
   "cell_type": "code",
   "execution_count": null,
   "metadata": {
    "collapsed": true
   },
   "outputs": [],
   "source": []
  },
  {
   "cell_type": "code",
   "execution_count": null,
   "metadata": {
    "collapsed": true
   },
   "outputs": [],
   "source": []
  },
  {
   "cell_type": "code",
   "execution_count": null,
   "metadata": {
    "collapsed": true
   },
   "outputs": [],
   "source": []
  },
  {
   "cell_type": "code",
   "execution_count": null,
   "metadata": {
    "collapsed": true
   },
   "outputs": [],
   "source": []
  },
  {
   "cell_type": "code",
   "execution_count": null,
   "metadata": {
    "collapsed": true
   },
   "outputs": [],
   "source": []
  },
  {
   "cell_type": "code",
   "execution_count": null,
   "metadata": {
    "collapsed": true
   },
   "outputs": [],
   "source": []
  },
  {
   "cell_type": "code",
   "execution_count": null,
   "metadata": {
    "collapsed": true
   },
   "outputs": [],
   "source": []
  },
  {
   "cell_type": "code",
   "execution_count": null,
   "metadata": {
    "collapsed": true
   },
   "outputs": [],
   "source": []
  },
  {
   "cell_type": "code",
   "execution_count": null,
   "metadata": {
    "collapsed": true
   },
   "outputs": [],
   "source": []
  },
  {
   "cell_type": "code",
   "execution_count": null,
   "metadata": {
    "collapsed": true
   },
   "outputs": [],
   "source": []
  },
  {
   "cell_type": "code",
   "execution_count": null,
   "metadata": {
    "collapsed": true
   },
   "outputs": [],
   "source": []
  },
  {
   "cell_type": "code",
   "execution_count": null,
   "metadata": {
    "collapsed": true
   },
   "outputs": [],
   "source": []
  },
  {
   "cell_type": "code",
   "execution_count": null,
   "metadata": {
    "collapsed": true
   },
   "outputs": [],
   "source": []
  },
  {
   "cell_type": "code",
   "execution_count": null,
   "metadata": {
    "collapsed": true
   },
   "outputs": [],
   "source": []
  },
  {
   "cell_type": "code",
   "execution_count": null,
   "metadata": {
    "collapsed": true
   },
   "outputs": [],
   "source": []
  },
  {
   "cell_type": "code",
   "execution_count": null,
   "metadata": {
    "collapsed": true
   },
   "outputs": [],
   "source": []
  },
  {
   "cell_type": "code",
   "execution_count": null,
   "metadata": {
    "collapsed": true
   },
   "outputs": [],
   "source": []
  },
  {
   "cell_type": "code",
   "execution_count": null,
   "metadata": {
    "collapsed": true
   },
   "outputs": [],
   "source": []
  },
  {
   "cell_type": "code",
   "execution_count": null,
   "metadata": {
    "collapsed": true
   },
   "outputs": [],
   "source": []
  },
  {
   "cell_type": "code",
   "execution_count": null,
   "metadata": {
    "collapsed": true
   },
   "outputs": [],
   "source": []
  },
  {
   "cell_type": "code",
   "execution_count": null,
   "metadata": {
    "collapsed": true
   },
   "outputs": [],
   "source": []
  },
  {
   "cell_type": "code",
   "execution_count": null,
   "metadata": {
    "collapsed": true
   },
   "outputs": [],
   "source": []
  },
  {
   "cell_type": "code",
   "execution_count": null,
   "metadata": {
    "collapsed": true
   },
   "outputs": [],
   "source": []
  },
  {
   "cell_type": "code",
   "execution_count": null,
   "metadata": {
    "collapsed": true
   },
   "outputs": [],
   "source": []
  },
  {
   "cell_type": "code",
   "execution_count": null,
   "metadata": {
    "collapsed": true
   },
   "outputs": [],
   "source": []
  },
  {
   "cell_type": "code",
   "execution_count": null,
   "metadata": {
    "collapsed": true
   },
   "outputs": [],
   "source": []
  },
  {
   "cell_type": "code",
   "execution_count": null,
   "metadata": {
    "collapsed": true
   },
   "outputs": [],
   "source": []
  },
  {
   "cell_type": "code",
   "execution_count": null,
   "metadata": {
    "collapsed": true
   },
   "outputs": [],
   "source": []
  },
  {
   "cell_type": "code",
   "execution_count": null,
   "metadata": {
    "collapsed": true
   },
   "outputs": [],
   "source": []
  },
  {
   "cell_type": "code",
   "execution_count": null,
   "metadata": {
    "collapsed": true
   },
   "outputs": [],
   "source": []
  },
  {
   "cell_type": "code",
   "execution_count": null,
   "metadata": {
    "collapsed": true
   },
   "outputs": [],
   "source": []
  },
  {
   "cell_type": "code",
   "execution_count": null,
   "metadata": {
    "collapsed": true
   },
   "outputs": [],
   "source": []
  },
  {
   "cell_type": "code",
   "execution_count": null,
   "metadata": {
    "collapsed": true
   },
   "outputs": [],
   "source": []
  }
 ],
 "metadata": {
  "kernelspec": {
   "display_name": "Python 3",
   "language": "python",
   "name": "python3"
  },
  "language_info": {
   "codemirror_mode": {
    "name": "ipython",
    "version": 3
   },
   "file_extension": ".py",
   "mimetype": "text/x-python",
   "name": "python",
   "nbconvert_exporter": "python",
   "pygments_lexer": "ipython3",
   "version": "3.6.0"
  }
 },
 "nbformat": 4,
 "nbformat_minor": 2
}
